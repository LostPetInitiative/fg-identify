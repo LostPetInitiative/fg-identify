{
 "cells": [
  {
   "cell_type": "code",
   "execution_count": null,
   "id": "d70b0f49",
   "metadata": {},
   "outputs": [],
   "source": [
    "import pandas as pd\n",
    "import numpy as np\n",
    "\n",
    "from pathlib import Path\n",
    "import json\n",
    "import cv2\n",
    "\n",
    "import matplotlib.pyplot as plt\n",
    "from infer import LitModule, get_embeddings, get_similarity, run_predict\n",
    "from score import score_preds\n",
    "%matplotlib inline\n",
    "\n",
    "import torch\n",
    "import pytorch_lightning as pl\n",
    "import timm\n",
    "import sklearn\n",
    "import albumentations\n",
    "print(torch.__version__)\n",
    "print(pl.__version__)\n",
    "print(timm.__version__)\n",
    "print(sklearn.__version__)\n",
    "print(albumentations.__version__)"
   ]
  },
  {
   "cell_type": "code",
   "execution_count": 2,
   "id": "aa4145c4",
   "metadata": {},
   "outputs": [],
   "source": [
    "######################\n",
    "### Process Data25 ###\n",
    "### Run it before train####################\n",
    "### and pass the data path to config file.#\n",
    "###########################################\n",
    "\n",
    "# individual_id = []\n",
    "# image_path = []\n",
    "# image_size = []\n",
    "\n",
    "# for path in Path(\"/data/hse/data/data_25/\").glob(\"*/*g\"):\n",
    "#     iid = str(path.parent.name)\n",
    "#     img = cv2.imread(str(path))\n",
    "#     if img is not None:\n",
    "#         individual_id.append(iid)\n",
    "#         image_path.append(str(path))\n",
    "#         image_size.append(img.shape[:2])\n",
    "\n",
    "# df = pd.DataFrame({\"individual_id\": individual_id, \"image_path\": image_path, \"image_size\": image_size})\n",
    "# df = df.sample(frac=1.).reset_index(drop=True)\n",
    "# train = df.iloc[:-1000]\n",
    "# val = df.iloc[-1000:].reset_index(drop=True)\n",
    "# train.to_csv(\"/data/hse/data/train.csv\", index=False)\n",
    "# val.to_csv(\"/data/hse/data/val.csv\", index=False)"
   ]
  },
  {
   "cell_type": "markdown",
   "id": "e831714e",
   "metadata": {},
   "source": [
    "# predict & eval example"
   ]
  },
  {
   "cell_type": "code",
   "execution_count": 4,
   "id": "55d63612",
   "metadata": {
    "scrolled": false
   },
   "outputs": [
    {
     "data": {
      "text/plain": [
       "defaultdict(dict,\n",
       "            {'hard_lost': {'nmatchable': 2131,\n",
       "              'candR@1': 0.25293289535429375,\n",
       "              'candR@3': 0.3693101830126701,\n",
       "              'candR@10': 0.5194744251525105,\n",
       "              'candR@30': 0.662599718442046,\n",
       "              'candR@100': 0.7939934303144064,\n",
       "              'candMRR': 0.34175706512585946,\n",
       "              'hit1pred_nonm49%_P@top0.1': 0.4084507042253521,\n",
       "              'hit1pred_nonm90%_P@top0.1': 0.0,\n",
       "              'hit3pred_nonm49%_P@top0.1': 0.39906103286384975,\n",
       "              'hit3pred_nonm90%_P@top0.1': 0.0,\n",
       "              'hit10pred_nonm49%_P@top0.1': 0.45539906103286387,\n",
       "              'hit10pred_nonm90%_P@top0.1': 0.009389671361502348},\n",
       "             'hard_found': {'nmatchable': 1005,\n",
       "              'candR@1': 0.33930348258706466,\n",
       "              'candR@3': 0.47562189054726367,\n",
       "              'candR@10': 0.6079601990049751,\n",
       "              'candR@30': 0.7154228855721393,\n",
       "              'candR@100': 0.8119402985074626,\n",
       "              'candMRR': 0.4322420764723986,\n",
       "              'hit1pred_nonm48%_P@top0.1': 0.44,\n",
       "              'hit1pred_nonm90%_P@top0.1': 0.0,\n",
       "              'hit3pred_nonm48%_P@top0.1': 0.45,\n",
       "              'hit3pred_nonm90%_P@top0.1': 0.02,\n",
       "              'hit10pred_nonm48%_P@top0.1': 0.49,\n",
       "              'hit10pred_nonm90%_P@top0.1': 0.03},\n",
       "             'simple_lost': {'nmatchable': 779,\n",
       "              'candR@1': 0.8202824133504493,\n",
       "              'candR@3': 0.8818998716302953,\n",
       "              'candR@10': 0.9409499358151476,\n",
       "              'candR@30': 0.9807445442875481,\n",
       "              'candR@100': 0.9910141206675225,\n",
       "              'candMRR': 0.8613892312455277,\n",
       "              'hit1pred_nonm51%_P@top0.1': 0.7402597402597403,\n",
       "              'hit1pred_nonm90%_P@top0.1': 0.3116883116883117,\n",
       "              'hit3pred_nonm51%_P@top0.1': 0.7402597402597403,\n",
       "              'hit3pred_nonm90%_P@top0.1': 0.05194805194805195,\n",
       "              'hit10pred_nonm51%_P@top0.1': 0.7792207792207793,\n",
       "              'hit10pred_nonm90%_P@top0.1': 0.1038961038961039},\n",
       "             'simple_found': {'nmatchable': 1516,\n",
       "              'candR@1': 0.9274406332453826,\n",
       "              'candR@3': 0.9676781002638523,\n",
       "              'candR@10': 0.9881266490765171,\n",
       "              'candR@30': 0.9953825857519789,\n",
       "              'candR@100': 0.9986807387862797,\n",
       "              'candMRR': 0.9501325818459873,\n",
       "              'hit1pred_nonm48%_P@top0.1': 0.7880794701986755,\n",
       "              'hit1pred_nonm90%_P@top0.1': 0.2781456953642384,\n",
       "              'hit3pred_nonm48%_P@top0.1': 0.8344370860927153,\n",
       "              'hit3pred_nonm90%_P@top0.1': 0.31788079470198677,\n",
       "              'hit10pred_nonm48%_P@top0.1': 0.8741721854304636,\n",
       "              'hit10pred_nonm90%_P@top0.1': 0.23841059602649006}})"
      ]
     },
     "execution_count": 4,
     "metadata": {},
     "output_type": "execute_result"
    }
   ],
   "source": [
    "model = \"/data/hse/model/data25_convnext_small_ep10_img256/\"\n",
    "device = \"cuda:0\"\n",
    "name = \"convnext_256\"\n",
    "gt_path = \"/data/hse/data/\"\n",
    "run_predict(name, model, device, \"dev\")\n",
    "run_predict(name, model, device, \"test\")\n",
    "score_preds(\"/data/hse/prediction/convnext_256/dev/preds.tsv\", gt_path, [\"dev\"], None)"
   ]
  },
  {
   "cell_type": "markdown",
   "id": "8834f35d",
   "metadata": {},
   "source": [
    "# Analysis  Match"
   ]
  },
  {
   "cell_type": "code",
   "execution_count": 5,
   "id": "5e14793c",
   "metadata": {},
   "outputs": [],
   "source": [
    "dev_pred = pd.read_table(\"/data/hse/prediction/convnext_256/dev/preds.tsv\")\n",
    "dev_gt = pd.read_csv(\"/data/hse/data/dev/registry.csv\").rename({\"query_name\": \"query\", \"answer_name\": \"gt\"}, axis=1)\n",
    "dev_pred = dev_pred.merge(dev_gt[['query', 'gt']], on='query', how='left')"
   ]
  },
  {
   "cell_type": "code",
   "execution_count": 19,
   "id": "be04ae59",
   "metadata": {},
   "outputs": [
    {
     "data": {
      "text/html": [
       "<div>\n",
       "<style scoped>\n",
       "    .dataframe tbody tr th:only-of-type {\n",
       "        vertical-align: middle;\n",
       "    }\n",
       "\n",
       "    .dataframe tbody tr th {\n",
       "        vertical-align: top;\n",
       "    }\n",
       "\n",
       "    .dataframe thead th {\n",
       "        text-align: right;\n",
       "    }\n",
       "</style>\n",
       "<table border=\"1\" class=\"dataframe\">\n",
       "  <thead>\n",
       "    <tr style=\"text-align: right;\">\n",
       "      <th></th>\n",
       "      <th>query</th>\n",
       "      <th>answer</th>\n",
       "      <th>similarity</th>\n",
       "      <th>matched_1</th>\n",
       "      <th>matched_3</th>\n",
       "      <th>matched_10</th>\n",
       "      <th>gt</th>\n",
       "    </tr>\n",
       "  </thead>\n",
       "  <tbody>\n",
       "    <tr>\n",
       "      <th>0</th>\n",
       "      <td>e1ba91d1c1</td>\n",
       "      <td>44854e46c4,03b7cc20b4,fd07a59839,493fa14907,15...</td>\n",
       "      <td>1.0,0.305,0.269,0.265,0.248,0.247,0.242,0.229,...</td>\n",
       "      <td>1.0</td>\n",
       "      <td>0.762333</td>\n",
       "      <td>0.695778</td>\n",
       "      <td>44854e46c4</td>\n",
       "    </tr>\n",
       "    <tr>\n",
       "      <th>1</th>\n",
       "      <td>6be26c8fca</td>\n",
       "      <td>9de7b1b827,2140f7b0a4,83963e48d5,d137bc4d12,61...</td>\n",
       "      <td>1.0,0.722,0.509,0.369,0.349,0.34,0.311,0.271,0...</td>\n",
       "      <td>1.0</td>\n",
       "      <td>0.871833</td>\n",
       "      <td>0.769211</td>\n",
       "      <td>NaN</td>\n",
       "    </tr>\n",
       "    <tr>\n",
       "      <th>2</th>\n",
       "      <td>5738659f9c</td>\n",
       "      <td>e890c89a60,33fb39c0b3,7abb81b8cc,fea542bd6d,ab...</td>\n",
       "      <td>1.0,0.274,0.255,0.231,0.227,0.214,0.212,0.203,...</td>\n",
       "      <td>1.0</td>\n",
       "      <td>0.754833</td>\n",
       "      <td>0.684878</td>\n",
       "      <td>e890c89a60</td>\n",
       "    </tr>\n",
       "    <tr>\n",
       "      <th>3</th>\n",
       "      <td>9f1710a274</td>\n",
       "      <td>242695059e,d08d4dd668,443d6e02df,4f55b89e54,9e...</td>\n",
       "      <td>1.0,1.0,0.352,0.306,0.281,0.267,0.227,0.213,0....</td>\n",
       "      <td>1.0</td>\n",
       "      <td>0.892000</td>\n",
       "      <td>0.765467</td>\n",
       "      <td>7090ab3dfd</td>\n",
       "    </tr>\n",
       "    <tr>\n",
       "      <th>4</th>\n",
       "      <td>7902984c62</td>\n",
       "      <td>66897c3967,97c772fc0d,ad13d8d19b,da0a8ce2fa,30...</td>\n",
       "      <td>1.0,1.0,1.0,0.518,0.412,0.399,0.362,0.358,0.34...</td>\n",
       "      <td>1.0</td>\n",
       "      <td>1.000000</td>\n",
       "      <td>0.857467</td>\n",
       "      <td>36d5f5e3df</td>\n",
       "    </tr>\n",
       "  </tbody>\n",
       "</table>\n",
       "</div>"
      ],
      "text/plain": [
       "        query                                             answer  \\\n",
       "0  e1ba91d1c1  44854e46c4,03b7cc20b4,fd07a59839,493fa14907,15...   \n",
       "1  6be26c8fca  9de7b1b827,2140f7b0a4,83963e48d5,d137bc4d12,61...   \n",
       "2  5738659f9c  e890c89a60,33fb39c0b3,7abb81b8cc,fea542bd6d,ab...   \n",
       "3  9f1710a274  242695059e,d08d4dd668,443d6e02df,4f55b89e54,9e...   \n",
       "4  7902984c62  66897c3967,97c772fc0d,ad13d8d19b,da0a8ce2fa,30...   \n",
       "\n",
       "                                          similarity  matched_1  matched_3  \\\n",
       "0  1.0,0.305,0.269,0.265,0.248,0.247,0.242,0.229,...        1.0   0.762333   \n",
       "1  1.0,0.722,0.509,0.369,0.349,0.34,0.311,0.271,0...        1.0   0.871833   \n",
       "2  1.0,0.274,0.255,0.231,0.227,0.214,0.212,0.203,...        1.0   0.754833   \n",
       "3  1.0,1.0,0.352,0.306,0.281,0.267,0.227,0.213,0....        1.0   0.892000   \n",
       "4  1.0,1.0,1.0,0.518,0.412,0.399,0.362,0.358,0.34...        1.0   1.000000   \n",
       "\n",
       "   matched_10          gt  \n",
       "0    0.695778  44854e46c4  \n",
       "1    0.769211         NaN  \n",
       "2    0.684878  e890c89a60  \n",
       "3    0.765467  7090ab3dfd  \n",
       "4    0.857467  36d5f5e3df  "
      ]
     },
     "execution_count": 19,
     "metadata": {},
     "output_type": "execute_result"
    }
   ],
   "source": [
    "dev_pred.head()"
   ]
  },
  {
   "cell_type": "code",
   "execution_count": 22,
   "id": "90320d4a",
   "metadata": {},
   "outputs": [
    {
     "data": {
      "text/plain": [
       "0.49236811568329913"
      ]
     },
     "execution_count": 22,
     "metadata": {},
     "output_type": "execute_result"
    }
   ],
   "source": [
    "dev_pred['gt'].isnull().mean()"
   ]
  },
  {
   "cell_type": "code",
   "execution_count": 23,
   "id": "84089e4c",
   "metadata": {},
   "outputs": [],
   "source": [
    "def hit_k(df, k=100):\n",
    "    answer = df.answer.values\n",
    "    gt = df['gt'].fillna(\"Null\").values\n",
    "    \n",
    "    hit = []\n",
    "    \n",
    "    for a, g in zip(answer, gt):\n",
    "        a = a.split(\",\")\n",
    "        if g in a[:k]:\n",
    "            hit.append(1)\n",
    "        else:\n",
    "            hit.append(0)\n",
    "    return hit"
   ]
  },
  {
   "cell_type": "code",
   "execution_count": 28,
   "id": "1dfa502d",
   "metadata": {},
   "outputs": [],
   "source": [
    "dev_pred['hit'] = hit_k(dev_pred)\n",
    "dev_pred['hit_1'] = hit_k(dev_pred, 1)\n",
    "dev_pred['hit_3'] = hit_k(dev_pred, 3)\n",
    "dev_pred['hit_10'] = hit_k(dev_pred, 10)"
   ]
  },
  {
   "cell_type": "code",
   "execution_count": 29,
   "id": "9f93239b",
   "metadata": {},
   "outputs": [
    {
     "data": {
      "text/html": [
       "<div>\n",
       "<style scoped>\n",
       "    .dataframe tbody tr th:only-of-type {\n",
       "        vertical-align: middle;\n",
       "    }\n",
       "\n",
       "    .dataframe tbody tr th {\n",
       "        vertical-align: top;\n",
       "    }\n",
       "\n",
       "    .dataframe thead th {\n",
       "        text-align: right;\n",
       "    }\n",
       "</style>\n",
       "<table border=\"1\" class=\"dataframe\">\n",
       "  <thead>\n",
       "    <tr style=\"text-align: right;\">\n",
       "      <th></th>\n",
       "      <th>query</th>\n",
       "      <th>answer</th>\n",
       "      <th>similarity</th>\n",
       "      <th>matched_1</th>\n",
       "      <th>matched_3</th>\n",
       "      <th>matched_10</th>\n",
       "      <th>gt</th>\n",
       "      <th>hit</th>\n",
       "      <th>hit_1</th>\n",
       "      <th>hit_3</th>\n",
       "      <th>hit_10</th>\n",
       "    </tr>\n",
       "  </thead>\n",
       "  <tbody>\n",
       "    <tr>\n",
       "      <th>0</th>\n",
       "      <td>e1ba91d1c1</td>\n",
       "      <td>44854e46c4,03b7cc20b4,fd07a59839,493fa14907,15...</td>\n",
       "      <td>1.0,0.305,0.269,0.265,0.248,0.247,0.242,0.229,...</td>\n",
       "      <td>1.000</td>\n",
       "      <td>0.762333</td>\n",
       "      <td>0.695778</td>\n",
       "      <td>44854e46c4</td>\n",
       "      <td>1</td>\n",
       "      <td>1</td>\n",
       "      <td>1</td>\n",
       "      <td>1</td>\n",
       "    </tr>\n",
       "    <tr>\n",
       "      <th>2</th>\n",
       "      <td>5738659f9c</td>\n",
       "      <td>e890c89a60,33fb39c0b3,7abb81b8cc,fea542bd6d,ab...</td>\n",
       "      <td>1.0,0.274,0.255,0.231,0.227,0.214,0.212,0.203,...</td>\n",
       "      <td>1.000</td>\n",
       "      <td>0.754833</td>\n",
       "      <td>0.684878</td>\n",
       "      <td>e890c89a60</td>\n",
       "      <td>1</td>\n",
       "      <td>1</td>\n",
       "      <td>1</td>\n",
       "      <td>1</td>\n",
       "    </tr>\n",
       "    <tr>\n",
       "      <th>4</th>\n",
       "      <td>7902984c62</td>\n",
       "      <td>66897c3967,97c772fc0d,ad13d8d19b,da0a8ce2fa,30...</td>\n",
       "      <td>1.0,1.0,1.0,0.518,0.412,0.399,0.362,0.358,0.34...</td>\n",
       "      <td>1.000</td>\n",
       "      <td>1.000000</td>\n",
       "      <td>0.857467</td>\n",
       "      <td>36d5f5e3df</td>\n",
       "      <td>1</td>\n",
       "      <td>0</td>\n",
       "      <td>0</td>\n",
       "      <td>0</td>\n",
       "    </tr>\n",
       "    <tr>\n",
       "      <th>5</th>\n",
       "      <td>cb280a0c57</td>\n",
       "      <td>de18caf487,396ebb8efe,b03ca6ff7d,8b9705e269,5e...</td>\n",
       "      <td>1.0,0.288,0.27,0.243,0.227,0.22,0.21,0.206,0.2...</td>\n",
       "      <td>1.000</td>\n",
       "      <td>0.759667</td>\n",
       "      <td>0.688989</td>\n",
       "      <td>de18caf487</td>\n",
       "      <td>1</td>\n",
       "      <td>1</td>\n",
       "      <td>1</td>\n",
       "      <td>1</td>\n",
       "    </tr>\n",
       "    <tr>\n",
       "      <th>8</th>\n",
       "      <td>a6d62af1cb</td>\n",
       "      <td>c4f89c549f,c4f89c549f,6be07040b7,6be07040b7,61...</td>\n",
       "      <td>1.0,0.697,0.339,0.312,0.273,0.263,0.257,0.257,...</td>\n",
       "      <td>1.000</td>\n",
       "      <td>0.839333</td>\n",
       "      <td>0.742611</td>\n",
       "      <td>c4f89c549f</td>\n",
       "      <td>1</td>\n",
       "      <td>1</td>\n",
       "      <td>1</td>\n",
       "      <td>1</td>\n",
       "    </tr>\n",
       "    <tr>\n",
       "      <th>...</th>\n",
       "      <td>...</td>\n",
       "      <td>...</td>\n",
       "      <td>...</td>\n",
       "      <td>...</td>\n",
       "      <td>...</td>\n",
       "      <td>...</td>\n",
       "      <td>...</td>\n",
       "      <td>...</td>\n",
       "      <td>...</td>\n",
       "      <td>...</td>\n",
       "      <td>...</td>\n",
       "    </tr>\n",
       "    <tr>\n",
       "      <th>11148</th>\n",
       "      <td>8a2beca3a6</td>\n",
       "      <td>b5f7b25d65,783151865b,8c3a6adeba,e305826fef,ec...</td>\n",
       "      <td>0.231,0.206,0.205,0.196,0.191,0.188,0.182,0.18...</td>\n",
       "      <td>0.231</td>\n",
       "      <td>0.222500</td>\n",
       "      <td>0.215167</td>\n",
       "      <td>783151865b</td>\n",
       "      <td>1</td>\n",
       "      <td>0</td>\n",
       "      <td>1</td>\n",
       "      <td>1</td>\n",
       "    </tr>\n",
       "    <tr>\n",
       "      <th>11164</th>\n",
       "      <td>a7db130a5a</td>\n",
       "      <td>78ecb0b05f,2354aab677,4d57d1c49b,f6c94a645c,73...</td>\n",
       "      <td>0.226,0.2,0.184,0.181,0.174,0.166,0.166,0.165,...</td>\n",
       "      <td>0.226</td>\n",
       "      <td>0.214667</td>\n",
       "      <td>0.206489</td>\n",
       "      <td>78ecb0b05f</td>\n",
       "      <td>1</td>\n",
       "      <td>1</td>\n",
       "      <td>1</td>\n",
       "      <td>1</td>\n",
       "    </tr>\n",
       "    <tr>\n",
       "      <th>11167</th>\n",
       "      <td>8cdd7c5dee</td>\n",
       "      <td>d969d93a04,fc68159075,29179df3a1,db5cf8e0b6,37...</td>\n",
       "      <td>0.226,0.184,0.184,0.176,0.17,0.17,0.161,0.16,0...</td>\n",
       "      <td>0.226</td>\n",
       "      <td>0.212000</td>\n",
       "      <td>0.204133</td>\n",
       "      <td>37b76e4293</td>\n",
       "      <td>1</td>\n",
       "      <td>0</td>\n",
       "      <td>0</td>\n",
       "      <td>1</td>\n",
       "    </tr>\n",
       "    <tr>\n",
       "      <th>11169</th>\n",
       "      <td>6f07a32047</td>\n",
       "      <td>5120e4e24b,c815eab24a,d7efe32b37,4267093b6a,4b...</td>\n",
       "      <td>0.225,0.216,0.211,0.19,0.189,0.187,0.187,0.176...</td>\n",
       "      <td>0.225</td>\n",
       "      <td>0.221167</td>\n",
       "      <td>0.212389</td>\n",
       "      <td>d7efe32b37</td>\n",
       "      <td>1</td>\n",
       "      <td>0</td>\n",
       "      <td>1</td>\n",
       "      <td>1</td>\n",
       "    </tr>\n",
       "    <tr>\n",
       "      <th>11172</th>\n",
       "      <td>8f6b7e6618</td>\n",
       "      <td>50465b92f8,5fc579b695,0588b01430,f26d6bc4b9,f9...</td>\n",
       "      <td>0.223,0.189,0.178,0.172,0.171,0.171,0.17,0.163...</td>\n",
       "      <td>0.223</td>\n",
       "      <td>0.209833</td>\n",
       "      <td>0.202778</td>\n",
       "      <td>1220cfc030</td>\n",
       "      <td>1</td>\n",
       "      <td>0</td>\n",
       "      <td>0</td>\n",
       "      <td>0</td>\n",
       "    </tr>\n",
       "  </tbody>\n",
       "</table>\n",
       "<p>4855 rows × 11 columns</p>\n",
       "</div>"
      ],
      "text/plain": [
       "            query                                             answer  \\\n",
       "0      e1ba91d1c1  44854e46c4,03b7cc20b4,fd07a59839,493fa14907,15...   \n",
       "2      5738659f9c  e890c89a60,33fb39c0b3,7abb81b8cc,fea542bd6d,ab...   \n",
       "4      7902984c62  66897c3967,97c772fc0d,ad13d8d19b,da0a8ce2fa,30...   \n",
       "5      cb280a0c57  de18caf487,396ebb8efe,b03ca6ff7d,8b9705e269,5e...   \n",
       "8      a6d62af1cb  c4f89c549f,c4f89c549f,6be07040b7,6be07040b7,61...   \n",
       "...           ...                                                ...   \n",
       "11148  8a2beca3a6  b5f7b25d65,783151865b,8c3a6adeba,e305826fef,ec...   \n",
       "11164  a7db130a5a  78ecb0b05f,2354aab677,4d57d1c49b,f6c94a645c,73...   \n",
       "11167  8cdd7c5dee  d969d93a04,fc68159075,29179df3a1,db5cf8e0b6,37...   \n",
       "11169  6f07a32047  5120e4e24b,c815eab24a,d7efe32b37,4267093b6a,4b...   \n",
       "11172  8f6b7e6618  50465b92f8,5fc579b695,0588b01430,f26d6bc4b9,f9...   \n",
       "\n",
       "                                              similarity  matched_1  \\\n",
       "0      1.0,0.305,0.269,0.265,0.248,0.247,0.242,0.229,...      1.000   \n",
       "2      1.0,0.274,0.255,0.231,0.227,0.214,0.212,0.203,...      1.000   \n",
       "4      1.0,1.0,1.0,0.518,0.412,0.399,0.362,0.358,0.34...      1.000   \n",
       "5      1.0,0.288,0.27,0.243,0.227,0.22,0.21,0.206,0.2...      1.000   \n",
       "8      1.0,0.697,0.339,0.312,0.273,0.263,0.257,0.257,...      1.000   \n",
       "...                                                  ...        ...   \n",
       "11148  0.231,0.206,0.205,0.196,0.191,0.188,0.182,0.18...      0.231   \n",
       "11164  0.226,0.2,0.184,0.181,0.174,0.166,0.166,0.165,...      0.226   \n",
       "11167  0.226,0.184,0.184,0.176,0.17,0.17,0.161,0.16,0...      0.226   \n",
       "11169  0.225,0.216,0.211,0.19,0.189,0.187,0.187,0.176...      0.225   \n",
       "11172  0.223,0.189,0.178,0.172,0.171,0.171,0.17,0.163...      0.223   \n",
       "\n",
       "       matched_3  matched_10          gt  hit  hit_1  hit_3  hit_10  \n",
       "0       0.762333    0.695778  44854e46c4    1      1      1       1  \n",
       "2       0.754833    0.684878  e890c89a60    1      1      1       1  \n",
       "4       1.000000    0.857467  36d5f5e3df    1      0      0       0  \n",
       "5       0.759667    0.688989  de18caf487    1      1      1       1  \n",
       "8       0.839333    0.742611  c4f89c549f    1      1      1       1  \n",
       "...          ...         ...         ...  ...    ...    ...     ...  \n",
       "11148   0.222500    0.215167  783151865b    1      0      1       1  \n",
       "11164   0.214667    0.206489  78ecb0b05f    1      1      1       1  \n",
       "11167   0.212000    0.204133  37b76e4293    1      0      0       1  \n",
       "11169   0.221167    0.212389  d7efe32b37    1      0      1       1  \n",
       "11172   0.209833    0.202778  1220cfc030    1      0      0       0  \n",
       "\n",
       "[4855 rows x 11 columns]"
      ]
     },
     "execution_count": 29,
     "metadata": {},
     "output_type": "execute_result"
    }
   ],
   "source": [
    "dev_pred[dev_pred.hit == 1]"
   ]
  },
  {
   "cell_type": "code",
   "execution_count": 30,
   "id": "77f8c54e",
   "metadata": {},
   "outputs": [],
   "source": [
    "def extract_similarity(df):\n",
    "    ss = df['similarity'].values\n",
    "    ess = np.array([s.split(\",\") for s in ss]).astype(np.float32)\n",
    "    return ess"
   ]
  },
  {
   "cell_type": "code",
   "execution_count": 35,
   "id": "14641049",
   "metadata": {},
   "outputs": [],
   "source": [
    "hit1 = extract_similarity(dev_pred[dev_pred.hit_1 == 1])\n",
    "non_hit1 = extract_similarity(dev_pred[dev_pred.hit_1 != 1])"
   ]
  },
  {
   "cell_type": "code",
   "execution_count": 41,
   "id": "05891650",
   "metadata": {},
   "outputs": [
    {
     "data": {
      "text/plain": [
       "0.05992635"
      ]
     },
     "execution_count": 41,
     "metadata": {},
     "output_type": "execute_result"
    }
   ],
   "source": [
    "hit1.std(axis=1).mean()"
   ]
  },
  {
   "cell_type": "code",
   "execution_count": 42,
   "id": "4349c718",
   "metadata": {},
   "outputs": [
    {
     "data": {
      "text/plain": [
       "0.04202711"
      ]
     },
     "execution_count": 42,
     "metadata": {},
     "output_type": "execute_result"
    }
   ],
   "source": [
    "non_hit1.std(axis=1).mean()"
   ]
  },
  {
   "cell_type": "code",
   "execution_count": 45,
   "id": "8bb23c12",
   "metadata": {},
   "outputs": [
    {
     "data": {
      "text/plain": [
       "6.6616635"
      ]
     },
     "execution_count": 45,
     "metadata": {},
     "output_type": "execute_result"
    }
   ],
   "source": [
    "((hit1[:, 0] - hit1[:, 1:].mean(axis=1)) / hit1.std(axis=1)).mean()"
   ]
  },
  {
   "cell_type": "code",
   "execution_count": 46,
   "id": "6445cd20",
   "metadata": {},
   "outputs": [
    {
     "data": {
      "text/plain": [
       "4.1586556"
      ]
     },
     "execution_count": 46,
     "metadata": {},
     "output_type": "execute_result"
    }
   ],
   "source": [
    "((non_hit1[:, 0] - non_hit1[:, 1:].mean(axis=1)) / non_hit1.std(axis=1)).mean()"
   ]
  },
  {
   "cell_type": "code",
   "execution_count": 47,
   "id": "756d5a17",
   "metadata": {},
   "outputs": [
    {
     "data": {
      "text/plain": [
       "0.58371055"
      ]
     },
     "execution_count": 47,
     "metadata": {},
     "output_type": "execute_result"
    }
   ],
   "source": [
    "hit1[:, 0].mean()"
   ]
  },
  {
   "cell_type": "code",
   "execution_count": 48,
   "id": "31398a67",
   "metadata": {},
   "outputs": [
    {
     "data": {
      "text/plain": [
       "0.3473713"
      ]
     },
     "execution_count": 48,
     "metadata": {},
     "output_type": "execute_result"
    }
   ],
   "source": [
    "non_hit1[:, 0].mean()"
   ]
  },
  {
   "cell_type": "code",
   "execution_count": 49,
   "id": "9f9cfa58",
   "metadata": {},
   "outputs": [
    {
     "data": {
      "text/plain": [
       "0.17314388"
      ]
     },
     "execution_count": 49,
     "metadata": {},
     "output_type": "execute_result"
    }
   ],
   "source": [
    "hit1.mean()"
   ]
  },
  {
   "cell_type": "code",
   "execution_count": 50,
   "id": "e75ff24a",
   "metadata": {},
   "outputs": [
    {
     "data": {
      "text/plain": [
       "0.16797028"
      ]
     },
     "execution_count": 50,
     "metadata": {},
     "output_type": "execute_result"
    }
   ],
   "source": [
    "non_hit1.mean()"
   ]
  },
  {
   "cell_type": "code",
   "execution_count": 52,
   "id": "f0e94c34",
   "metadata": {},
   "outputs": [],
   "source": [
    "dev_pred['first_score'] = dev_pred['similarity'].apply(lambda x: float(x.split(\",\")[0]))"
   ]
  },
  {
   "cell_type": "code",
   "execution_count": 54,
   "id": "9ffba226",
   "metadata": {},
   "outputs": [
    {
     "data": {
      "text/plain": [
       "0.3568904593639576"
      ]
     },
     "execution_count": 54,
     "metadata": {},
     "output_type": "execute_result"
    }
   ],
   "source": [
    "dev_pred[(dev_pred.first_score > 0.99)].hit_1.mean()"
   ]
  },
  {
   "cell_type": "code",
   "execution_count": 55,
   "id": "c34c4b50",
   "metadata": {},
   "outputs": [
    {
     "data": {
      "text/plain": [
       "0.3670212765957447"
      ]
     },
     "execution_count": 55,
     "metadata": {},
     "output_type": "execute_result"
    }
   ],
   "source": [
    "dev_pred[(dev_pred.first_score == 1)].hit_1.mean()"
   ]
  },
  {
   "cell_type": "code",
   "execution_count": 56,
   "id": "80127744",
   "metadata": {},
   "outputs": [
    {
     "data": {
      "text/html": [
       "<div>\n",
       "<style scoped>\n",
       "    .dataframe tbody tr th:only-of-type {\n",
       "        vertical-align: middle;\n",
       "    }\n",
       "\n",
       "    .dataframe tbody tr th {\n",
       "        vertical-align: top;\n",
       "    }\n",
       "\n",
       "    .dataframe thead th {\n",
       "        text-align: right;\n",
       "    }\n",
       "</style>\n",
       "<table border=\"1\" class=\"dataframe\">\n",
       "  <thead>\n",
       "    <tr style=\"text-align: right;\">\n",
       "      <th></th>\n",
       "      <th>query</th>\n",
       "      <th>answer</th>\n",
       "      <th>similarity</th>\n",
       "      <th>matched_1</th>\n",
       "      <th>matched_3</th>\n",
       "      <th>matched_10</th>\n",
       "      <th>gt</th>\n",
       "      <th>hit</th>\n",
       "      <th>hit_1</th>\n",
       "      <th>hit_3</th>\n",
       "      <th>hit_10</th>\n",
       "      <th>first_score</th>\n",
       "    </tr>\n",
       "  </thead>\n",
       "  <tbody>\n",
       "    <tr>\n",
       "      <th>1</th>\n",
       "      <td>6be26c8fca</td>\n",
       "      <td>9de7b1b827,2140f7b0a4,83963e48d5,d137bc4d12,61...</td>\n",
       "      <td>1.0,0.722,0.509,0.369,0.349,0.34,0.311,0.271,0...</td>\n",
       "      <td>1.0</td>\n",
       "      <td>0.871833</td>\n",
       "      <td>0.769211</td>\n",
       "      <td>NaN</td>\n",
       "      <td>0</td>\n",
       "      <td>0</td>\n",
       "      <td>0</td>\n",
       "      <td>0</td>\n",
       "      <td>1.0</td>\n",
       "    </tr>\n",
       "    <tr>\n",
       "      <th>3</th>\n",
       "      <td>9f1710a274</td>\n",
       "      <td>242695059e,d08d4dd668,443d6e02df,4f55b89e54,9e...</td>\n",
       "      <td>1.0,1.0,0.352,0.306,0.281,0.267,0.227,0.213,0....</td>\n",
       "      <td>1.0</td>\n",
       "      <td>0.892000</td>\n",
       "      <td>0.765467</td>\n",
       "      <td>7090ab3dfd</td>\n",
       "      <td>0</td>\n",
       "      <td>0</td>\n",
       "      <td>0</td>\n",
       "      <td>0</td>\n",
       "      <td>1.0</td>\n",
       "    </tr>\n",
       "    <tr>\n",
       "      <th>4</th>\n",
       "      <td>7902984c62</td>\n",
       "      <td>66897c3967,97c772fc0d,ad13d8d19b,da0a8ce2fa,30...</td>\n",
       "      <td>1.0,1.0,1.0,0.518,0.412,0.399,0.362,0.358,0.34...</td>\n",
       "      <td>1.0</td>\n",
       "      <td>1.000000</td>\n",
       "      <td>0.857467</td>\n",
       "      <td>36d5f5e3df</td>\n",
       "      <td>1</td>\n",
       "      <td>0</td>\n",
       "      <td>0</td>\n",
       "      <td>0</td>\n",
       "      <td>1.0</td>\n",
       "    </tr>\n",
       "    <tr>\n",
       "      <th>6</th>\n",
       "      <td>9ae25f3d03</td>\n",
       "      <td>9de7b1b827,2140f7b0a4,83963e48d5,d137bc4d12,61...</td>\n",
       "      <td>1.0,0.722,0.509,0.369,0.349,0.34,0.311,0.271,0...</td>\n",
       "      <td>1.0</td>\n",
       "      <td>0.871833</td>\n",
       "      <td>0.769211</td>\n",
       "      <td>fce3738dc9</td>\n",
       "      <td>0</td>\n",
       "      <td>0</td>\n",
       "      <td>0</td>\n",
       "      <td>0</td>\n",
       "      <td>1.0</td>\n",
       "    </tr>\n",
       "    <tr>\n",
       "      <th>7</th>\n",
       "      <td>5a5dc23a15</td>\n",
       "      <td>23b164e8fb,303cfe4c82,1fba8acf8c,e76e80c62a,ad...</td>\n",
       "      <td>1.0,0.525,0.386,0.366,0.362,0.362,0.362,0.358,...</td>\n",
       "      <td>1.0</td>\n",
       "      <td>0.818500</td>\n",
       "      <td>0.753333</td>\n",
       "      <td>NaN</td>\n",
       "      <td>0</td>\n",
       "      <td>0</td>\n",
       "      <td>0</td>\n",
       "      <td>0</td>\n",
       "      <td>1.0</td>\n",
       "    </tr>\n",
       "    <tr>\n",
       "      <th>...</th>\n",
       "      <td>...</td>\n",
       "      <td>...</td>\n",
       "      <td>...</td>\n",
       "      <td>...</td>\n",
       "      <td>...</td>\n",
       "      <td>...</td>\n",
       "      <td>...</td>\n",
       "      <td>...</td>\n",
       "      <td>...</td>\n",
       "      <td>...</td>\n",
       "      <td>...</td>\n",
       "      <td>...</td>\n",
       "    </tr>\n",
       "    <tr>\n",
       "      <th>7827</th>\n",
       "      <td>e1cc30c0ee</td>\n",
       "      <td>3e6e0e84d9,9806e50201,092c6e5476,41865af819,41...</td>\n",
       "      <td>1.0,0.724,0.528,0.495,0.457,0.45,0.413,0.381,0...</td>\n",
       "      <td>1.0</td>\n",
       "      <td>0.875333</td>\n",
       "      <td>0.798278</td>\n",
       "      <td>9806e50201</td>\n",
       "      <td>1</td>\n",
       "      <td>0</td>\n",
       "      <td>1</td>\n",
       "      <td>1</td>\n",
       "      <td>1.0</td>\n",
       "    </tr>\n",
       "    <tr>\n",
       "      <th>7834</th>\n",
       "      <td>9d5db1d873</td>\n",
       "      <td>b2da4c4d81,b64101165d,3cc1803090,21ac71a89f,34...</td>\n",
       "      <td>1.0,1.0,0.895,0.431,0.36,0.315,0.295,0.292,0.2...</td>\n",
       "      <td>1.0</td>\n",
       "      <td>0.982500</td>\n",
       "      <td>0.833200</td>\n",
       "      <td>3cc1803090</td>\n",
       "      <td>1</td>\n",
       "      <td>0</td>\n",
       "      <td>1</td>\n",
       "      <td>1</td>\n",
       "      <td>1.0</td>\n",
       "    </tr>\n",
       "    <tr>\n",
       "      <th>7838</th>\n",
       "      <td>e0f0c04e5e</td>\n",
       "      <td>21ac71a89f,9d756324db,3de35debf4,3d87303c2d,f1...</td>\n",
       "      <td>1.0,0.566,0.56,0.529,0.471,0.468,0.457,0.44,0....</td>\n",
       "      <td>1.0</td>\n",
       "      <td>0.854333</td>\n",
       "      <td>0.797011</td>\n",
       "      <td>NaN</td>\n",
       "      <td>0</td>\n",
       "      <td>0</td>\n",
       "      <td>0</td>\n",
       "      <td>0</td>\n",
       "      <td>1.0</td>\n",
       "    </tr>\n",
       "    <tr>\n",
       "      <th>7839</th>\n",
       "      <td>8c07647cc8</td>\n",
       "      <td>44602fc2ec,64edeb52f7,636d89803f,476a1c55b4,48...</td>\n",
       "      <td>1.0,0.603,0.412,0.399,0.383,0.348,0.347,0.347,...</td>\n",
       "      <td>1.0</td>\n",
       "      <td>0.835833</td>\n",
       "      <td>0.762978</td>\n",
       "      <td>476a1c55b4</td>\n",
       "      <td>1</td>\n",
       "      <td>0</td>\n",
       "      <td>0</td>\n",
       "      <td>1</td>\n",
       "      <td>1.0</td>\n",
       "    </tr>\n",
       "    <tr>\n",
       "      <th>7840</th>\n",
       "      <td>2ec9be2bd8</td>\n",
       "      <td>0e2eb3760f,35ef001e09,d6d3a41d6a,2fb959b180,7d...</td>\n",
       "      <td>1.0,0.999,0.984,0.984,0.976,0.971,0.933,0.926,...</td>\n",
       "      <td>1.0</td>\n",
       "      <td>0.997167</td>\n",
       "      <td>0.964422</td>\n",
       "      <td>26fbcf30e5</td>\n",
       "      <td>1</td>\n",
       "      <td>0</td>\n",
       "      <td>0</td>\n",
       "      <td>1</td>\n",
       "      <td>1.0</td>\n",
       "    </tr>\n",
       "  </tbody>\n",
       "</table>\n",
       "<p>119 rows × 12 columns</p>\n",
       "</div>"
      ],
      "text/plain": [
       "           query                                             answer  \\\n",
       "1     6be26c8fca  9de7b1b827,2140f7b0a4,83963e48d5,d137bc4d12,61...   \n",
       "3     9f1710a274  242695059e,d08d4dd668,443d6e02df,4f55b89e54,9e...   \n",
       "4     7902984c62  66897c3967,97c772fc0d,ad13d8d19b,da0a8ce2fa,30...   \n",
       "6     9ae25f3d03  9de7b1b827,2140f7b0a4,83963e48d5,d137bc4d12,61...   \n",
       "7     5a5dc23a15  23b164e8fb,303cfe4c82,1fba8acf8c,e76e80c62a,ad...   \n",
       "...          ...                                                ...   \n",
       "7827  e1cc30c0ee  3e6e0e84d9,9806e50201,092c6e5476,41865af819,41...   \n",
       "7834  9d5db1d873  b2da4c4d81,b64101165d,3cc1803090,21ac71a89f,34...   \n",
       "7838  e0f0c04e5e  21ac71a89f,9d756324db,3de35debf4,3d87303c2d,f1...   \n",
       "7839  8c07647cc8  44602fc2ec,64edeb52f7,636d89803f,476a1c55b4,48...   \n",
       "7840  2ec9be2bd8  0e2eb3760f,35ef001e09,d6d3a41d6a,2fb959b180,7d...   \n",
       "\n",
       "                                             similarity  matched_1  matched_3  \\\n",
       "1     1.0,0.722,0.509,0.369,0.349,0.34,0.311,0.271,0...        1.0   0.871833   \n",
       "3     1.0,1.0,0.352,0.306,0.281,0.267,0.227,0.213,0....        1.0   0.892000   \n",
       "4     1.0,1.0,1.0,0.518,0.412,0.399,0.362,0.358,0.34...        1.0   1.000000   \n",
       "6     1.0,0.722,0.509,0.369,0.349,0.34,0.311,0.271,0...        1.0   0.871833   \n",
       "7     1.0,0.525,0.386,0.366,0.362,0.362,0.362,0.358,...        1.0   0.818500   \n",
       "...                                                 ...        ...        ...   \n",
       "7827  1.0,0.724,0.528,0.495,0.457,0.45,0.413,0.381,0...        1.0   0.875333   \n",
       "7834  1.0,1.0,0.895,0.431,0.36,0.315,0.295,0.292,0.2...        1.0   0.982500   \n",
       "7838  1.0,0.566,0.56,0.529,0.471,0.468,0.457,0.44,0....        1.0   0.854333   \n",
       "7839  1.0,0.603,0.412,0.399,0.383,0.348,0.347,0.347,...        1.0   0.835833   \n",
       "7840  1.0,0.999,0.984,0.984,0.976,0.971,0.933,0.926,...        1.0   0.997167   \n",
       "\n",
       "      matched_10          gt  hit  hit_1  hit_3  hit_10  first_score  \n",
       "1       0.769211         NaN    0      0      0       0          1.0  \n",
       "3       0.765467  7090ab3dfd    0      0      0       0          1.0  \n",
       "4       0.857467  36d5f5e3df    1      0      0       0          1.0  \n",
       "6       0.769211  fce3738dc9    0      0      0       0          1.0  \n",
       "7       0.753333         NaN    0      0      0       0          1.0  \n",
       "...          ...         ...  ...    ...    ...     ...          ...  \n",
       "7827    0.798278  9806e50201    1      0      1       1          1.0  \n",
       "7834    0.833200  3cc1803090    1      0      1       1          1.0  \n",
       "7838    0.797011         NaN    0      0      0       0          1.0  \n",
       "7839    0.762978  476a1c55b4    1      0      0       1          1.0  \n",
       "7840    0.964422  26fbcf30e5    1      0      0       1          1.0  \n",
       "\n",
       "[119 rows x 12 columns]"
      ]
     },
     "execution_count": 56,
     "metadata": {},
     "output_type": "execute_result"
    }
   ],
   "source": [
    "dev_pred[(dev_pred.first_score == 1) & (dev_pred.hit_1 == 0)]"
   ]
  },
  {
   "cell_type": "code",
   "execution_count": null,
   "id": "fc0100cf",
   "metadata": {},
   "outputs": [],
   "source": []
  }
 ],
 "metadata": {
  "kernelspec": {
   "display_name": "Python 3 (ipykernel)",
   "language": "python",
   "name": "python3"
  },
  "language_info": {
   "codemirror_mode": {
    "name": "ipython",
    "version": 3
   },
   "file_extension": ".py",
   "mimetype": "text/x-python",
   "name": "python",
   "nbconvert_exporter": "python",
   "pygments_lexer": "ipython3",
   "version": "3.8.0"
  }
 },
 "nbformat": 4,
 "nbformat_minor": 5
}
