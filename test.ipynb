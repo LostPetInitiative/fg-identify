{
 "cells": [
  {
   "cell_type": "code",
   "execution_count": 1,
   "id": "eaeaf63b",
   "metadata": {},
   "outputs": [
    {
     "name": "stdout",
     "output_type": "stream",
     "text": [
      "1.11.0\n",
      "1.6.0\n",
      "0.5.4\n",
      "1.0.2\n",
      "1.1.0\n"
     ]
    }
   ],
   "source": [
    "import pandas as pd\n",
    "import numpy as np\n",
    "\n",
    "from pathlib import Path\n",
    "import json\n",
    "import cv2\n",
    "\n",
    "import matplotlib.pyplot as plt\n",
    "from infer import LitModule, get_embeddings, get_similarity, run_predict, load_ckpt\n",
    "from score import score_preds\n",
    "%matplotlib inline\n",
    "\n",
    "import torch\n",
    "import pytorch_lightning as pl\n",
    "import timm\n",
    "import sklearn\n",
    "import albumentations\n",
    "print(torch.__version__)\n",
    "print(pl.__version__)\n",
    "print(timm.__version__)\n",
    "print(sklearn.__version__)\n",
    "print(albumentations.__version__)"
   ]
  },
  {
   "cell_type": "markdown",
   "id": "a12d3649",
   "metadata": {},
   "source": [
    "# Original"
   ]
  },
  {
   "cell_type": "code",
   "execution_count": 4,
   "id": "52e9d596",
   "metadata": {
    "scrolled": false
   },
   "outputs": [
    {
     "name": "stdout",
     "output_type": "stream",
     "text": [
      "load model from /data/hse/model/data25_convnext_small_ep10_img256/last.ckpt\n"
     ]
    },
    {
     "name": "stderr",
     "output_type": "stream",
     "text": [
      "  0%|                                                   | 0/262 [00:00<?, ?it/s]/home/kky/project/BoolArtProject/fg_identify/infer.py:86: UserWarning: To copy construct from a tensor, it is recommended to use sourceTensor.clone().detach() or sourceTensor.clone().detach().requires_grad_(True), rather than torch.tensor(sourceTensor).\n",
      "  batch = {k: torch.tensor(v).to(device) for k, v in data.items()}\n",
      "100%|█████████████████████████████████████████| 262/262 [00:28<00:00,  9.35it/s]\n"
     ]
    },
    {
     "name": "stdout",
     "output_type": "stream",
     "text": [
      "embeddings size (8379, 768)\n",
      "load model from /data/hse/model/data25_convnext_small_ep10_img256/last.ckpt\n"
     ]
    },
    {
     "name": "stderr",
     "output_type": "stream",
     "text": [
      "100%|█████████████████████████████████████████| 248/248 [00:26<00:00,  9.36it/s]\n"
     ]
    },
    {
     "name": "stdout",
     "output_type": "stream",
     "text": [
      "embeddings size (7911, 768)\n",
      "load model from /data/hse/model/data25_convnext_small_ep10_img256/last.ckpt\n"
     ]
    },
    {
     "name": "stderr",
     "output_type": "stream",
     "text": [
      "100%|█████████████████████████████████████████| 236/236 [00:25<00:00,  9.27it/s]\n"
     ]
    },
    {
     "name": "stdout",
     "output_type": "stream",
     "text": [
      "embeddings size (7546, 768)\n",
      "load model from /data/hse/model/data25_convnext_small_ep10_img256/last.ckpt\n"
     ]
    },
    {
     "name": "stderr",
     "output_type": "stream",
     "text": [
      "100%|█████████████████████████████████████████| 251/251 [00:26<00:00,  9.30it/s]\n"
     ]
    },
    {
     "name": "stdout",
     "output_type": "stream",
     "text": [
      "embeddings size (8019, 768)\n"
     ]
    },
    {
     "name": "stderr",
     "output_type": "stream",
     "text": [
      "100%|███████████████████████████████████████████| 19/19 [00:00<00:00, 46.04it/s]\n",
      "100%|██████████████████████████████████████| 4058/4058 [00:05<00:00, 810.63it/s]\n",
      "100%|███████████████████████████████████████████| 20/20 [00:00<00:00, 38.94it/s]\n",
      "100%|██████████████████████████████████████| 4321/4321 [00:04<00:00, 879.58it/s]\n"
     ]
    },
    {
     "name": "stdout",
     "output_type": "stream",
     "text": [
      "similarity size (1468401, 4)\n"
     ]
    },
    {
     "name": "stderr",
     "output_type": "stream",
     "text": [
      "100%|███████████████████████████████████████████| 12/12 [00:00<00:00, 54.26it/s]\n",
      "100%|██████████████████████████████████████| 2512/2512 [00:02<00:00, 893.59it/s]\n",
      "100%|███████████████████████████████████████████| 24/24 [00:00<00:00, 40.27it/s]\n",
      "100%|██████████████████████████████████████| 5034/5034 [00:05<00:00, 859.88it/s]\n"
     ]
    },
    {
     "name": "stdout",
     "output_type": "stream",
     "text": [
      "similarity size (1317063, 4)\n",
      "save in /data/hse/prediction/convnext_small/dev/preds.tsv\n",
      "load model from /data/hse/model/data25_convnext_small_ep10_img256/last.ckpt\n"
     ]
    },
    {
     "name": "stderr",
     "output_type": "stream",
     "text": [
      "  0%|                                                   | 0/259 [00:00<?, ?it/s]/home/kky/project/BoolArtProject/fg_identify/infer.py:86: UserWarning: To copy construct from a tensor, it is recommended to use sourceTensor.clone().detach() or sourceTensor.clone().detach().requires_grad_(True), rather than torch.tensor(sourceTensor).\n",
      "  batch = {k: torch.tensor(v).to(device) for k, v in data.items()}\n",
      "100%|█████████████████████████████████████████| 259/259 [00:27<00:00,  9.36it/s]\n"
     ]
    },
    {
     "name": "stdout",
     "output_type": "stream",
     "text": [
      "embeddings size (8288, 768)\n",
      "load model from /data/hse/model/data25_convnext_small_ep10_img256/last.ckpt\n"
     ]
    },
    {
     "name": "stderr",
     "output_type": "stream",
     "text": [
      "100%|█████████████████████████████████████████| 247/247 [00:27<00:00,  9.04it/s]\n"
     ]
    },
    {
     "name": "stdout",
     "output_type": "stream",
     "text": [
      "embeddings size (7890, 768)\n",
      "load model from /data/hse/model/data25_convnext_small_ep10_img256/last.ckpt\n"
     ]
    },
    {
     "name": "stderr",
     "output_type": "stream",
     "text": [
      "100%|█████████████████████████████████████████| 238/238 [00:26<00:00,  8.98it/s]\n"
     ]
    },
    {
     "name": "stdout",
     "output_type": "stream",
     "text": [
      "embeddings size (7589, 768)\n",
      "load model from /data/hse/model/data25_convnext_small_ep10_img256/last.ckpt\n"
     ]
    },
    {
     "name": "stderr",
     "output_type": "stream",
     "text": [
      "100%|█████████████████████████████████████████| 248/248 [00:27<00:00,  8.94it/s]\n"
     ]
    },
    {
     "name": "stdout",
     "output_type": "stream",
     "text": [
      "embeddings size (7927, 768)\n"
     ]
    },
    {
     "name": "stderr",
     "output_type": "stream",
     "text": [
      "100%|███████████████████████████████████████████| 19/19 [00:00<00:00, 49.73it/s]\n",
      "100%|██████████████████████████████████████| 4038/4038 [00:04<00:00, 812.16it/s]\n",
      "100%|███████████████████████████████████████████| 20/20 [00:00<00:00, 40.49it/s]\n",
      "100%|██████████████████████████████████████| 4250/4250 [00:05<00:00, 836.80it/s]\n"
     ]
    },
    {
     "name": "stdout",
     "output_type": "stream",
     "text": [
      "similarity size (1458414, 4)\n"
     ]
    },
    {
     "name": "stderr",
     "output_type": "stream",
     "text": [
      "100%|███████████████████████████████████████████| 12/12 [00:00<00:00, 44.04it/s]\n",
      "100%|██████████████████████████████████████| 2537/2537 [00:03<00:00, 818.18it/s]\n",
      "100%|███████████████████████████████████████████| 24/24 [00:00<00:00, 38.59it/s]\n",
      "100%|██████████████████████████████████████| 5052/5052 [00:06<00:00, 831.64it/s]\n"
     ]
    },
    {
     "name": "stdout",
     "output_type": "stream",
     "text": [
      "similarity size (1332426, 4)\n",
      "save in /data/hse/prediction/convnext_small/test/preds.tsv\n"
     ]
    },
    {
     "data": {
      "text/plain": [
       "defaultdict(dict,\n",
       "            {'hard_lost': {'nmatchable': 2131,\n",
       "              'candR@1': 0.25293289535429375,\n",
       "              'candR@3': 0.3693101830126701,\n",
       "              'candR@10': 0.5194744251525105,\n",
       "              'candR@30': 0.662599718442046,\n",
       "              'candR@100': 0.7939934303144064,\n",
       "              'candMRR': 0.34175706512585946,\n",
       "              'hit1pred_nonm49%_P@top0.1': 0.4084507042253521,\n",
       "              'hit1pred_nonm90%_P@top0.1': 0.0,\n",
       "              'hit3pred_nonm49%_P@top0.1': 0.39906103286384975,\n",
       "              'hit3pred_nonm90%_P@top0.1': 0.0,\n",
       "              'hit10pred_nonm49%_P@top0.1': 0.45539906103286387,\n",
       "              'hit10pred_nonm90%_P@top0.1': 0.009389671361502348},\n",
       "             'hard_found': {'nmatchable': 1005,\n",
       "              'candR@1': 0.33930348258706466,\n",
       "              'candR@3': 0.47562189054726367,\n",
       "              'candR@10': 0.6079601990049751,\n",
       "              'candR@30': 0.7154228855721393,\n",
       "              'candR@100': 0.8119402985074626,\n",
       "              'candMRR': 0.4322420764723986,\n",
       "              'hit1pred_nonm48%_P@top0.1': 0.44,\n",
       "              'hit1pred_nonm90%_P@top0.1': 0.0,\n",
       "              'hit3pred_nonm48%_P@top0.1': 0.45,\n",
       "              'hit3pred_nonm90%_P@top0.1': 0.01,\n",
       "              'hit10pred_nonm48%_P@top0.1': 0.49,\n",
       "              'hit10pred_nonm90%_P@top0.1': 0.03},\n",
       "             'simple_lost': {'nmatchable': 779,\n",
       "              'candR@1': 0.8202824133504493,\n",
       "              'candR@3': 0.8818998716302953,\n",
       "              'candR@10': 0.9409499358151476,\n",
       "              'candR@30': 0.9807445442875481,\n",
       "              'candR@100': 0.9910141206675225,\n",
       "              'candMRR': 0.8613892312455277,\n",
       "              'hit1pred_nonm51%_P@top0.1': 0.7402597402597403,\n",
       "              'hit1pred_nonm90%_P@top0.1': 0.4025974025974026,\n",
       "              'hit3pred_nonm51%_P@top0.1': 0.7402597402597403,\n",
       "              'hit3pred_nonm90%_P@top0.1': 0.05194805194805195,\n",
       "              'hit10pred_nonm51%_P@top0.1': 0.7792207792207793,\n",
       "              'hit10pred_nonm90%_P@top0.1': 0.07792207792207792},\n",
       "             'simple_found': {'nmatchable': 1516,\n",
       "              'candR@1': 0.9274406332453826,\n",
       "              'candR@3': 0.9676781002638523,\n",
       "              'candR@10': 0.9881266490765171,\n",
       "              'candR@30': 0.9953825857519789,\n",
       "              'candR@100': 0.9986807387862797,\n",
       "              'candMRR': 0.9501325818459873,\n",
       "              'hit1pred_nonm48%_P@top0.1': 0.7880794701986755,\n",
       "              'hit1pred_nonm90%_P@top0.1': 0.2781456953642384,\n",
       "              'hit3pred_nonm48%_P@top0.1': 0.8344370860927153,\n",
       "              'hit3pred_nonm90%_P@top0.1': 0.2913907284768212,\n",
       "              'hit10pred_nonm48%_P@top0.1': 0.8741721854304636,\n",
       "              'hit10pred_nonm90%_P@top0.1': 0.23841059602649006}})"
      ]
     },
     "execution_count": 4,
     "metadata": {},
     "output_type": "execute_result"
    }
   ],
   "source": [
    "model = \"/data/hse/model/data25_convnext_small_ep10_img256/\"\n",
    "device = \"cuda:1\"\n",
    "name = \"convnext_small\"\n",
    "gt_path = \"/data/hse/data/\"\n",
    "run_predict(name, model, device, \"dev\")\n",
    "run_predict(name, model, device, \"test\")\n",
    "score_preds(f\"/data/hse/prediction/{name}/dev/preds.tsv\", gt_path, [\"dev\"], None)"
   ]
  },
  {
   "cell_type": "code",
   "execution_count": 8,
   "id": "f489f5a9",
   "metadata": {},
   "outputs": [],
   "source": [
    "convnext = pd.DataFrame({'hard_lost': {'nmatchable': 2131,\n",
    "              'candR@1': 0.25293289535429375,\n",
    "              'candR@3': 0.3693101830126701,\n",
    "              'candR@10': 0.5194744251525105,\n",
    "              'candR@30': 0.662599718442046,\n",
    "              'candR@100': 0.7939934303144064,\n",
    "              'candMRR': 0.34175706512585946,\n",
    "              'hit1pred_nonm49%_P@top0.1': 0.4084507042253521,\n",
    "              'hit1pred_nonm90%_P@top0.1': 0.0,\n",
    "              'hit3pred_nonm49%_P@top0.1': 0.39906103286384975,\n",
    "              'hit3pred_nonm90%_P@top0.1': 0.0,\n",
    "              'hit10pred_nonm49%_P@top0.1': 0.45539906103286387,\n",
    "              'hit10pred_nonm90%_P@top0.1': 0.009389671361502348},\n",
    "             'hard_found': {'nmatchable': 1005,\n",
    "              'candR@1': 0.33930348258706466,\n",
    "              'candR@3': 0.47562189054726367,\n",
    "              'candR@10': 0.6079601990049751,\n",
    "              'candR@30': 0.7154228855721393,\n",
    "              'candR@100': 0.8119402985074626,\n",
    "              'candMRR': 0.4322420764723986,\n",
    "              'hit1pred_nonm48%_P@top0.1': 0.44,\n",
    "              'hit1pred_nonm90%_P@top0.1': 0.0,\n",
    "              'hit3pred_nonm48%_P@top0.1': 0.45,\n",
    "              'hit3pred_nonm90%_P@top0.1': 0.01,\n",
    "              'hit10pred_nonm48%_P@top0.1': 0.49,\n",
    "              'hit10pred_nonm90%_P@top0.1': 0.03},\n",
    "             'simple_lost': {'nmatchable': 779,\n",
    "              'candR@1': 0.8202824133504493,\n",
    "              'candR@3': 0.8818998716302953,\n",
    "              'candR@10': 0.9409499358151476,\n",
    "              'candR@30': 0.9807445442875481,\n",
    "              'candR@100': 0.9910141206675225,\n",
    "              'candMRR': 0.8613892312455277,\n",
    "              'hit1pred_nonm51%_P@top0.1': 0.7402597402597403,\n",
    "              'hit1pred_nonm90%_P@top0.1': 0.4025974025974026,\n",
    "              'hit3pred_nonm51%_P@top0.1': 0.7402597402597403,\n",
    "              'hit3pred_nonm90%_P@top0.1': 0.05194805194805195,\n",
    "              'hit10pred_nonm51%_P@top0.1': 0.7792207792207793,\n",
    "              'hit10pred_nonm90%_P@top0.1': 0.07792207792207792},\n",
    "             'simple_found': {'nmatchable': 1516,\n",
    "              'candR@1': 0.9274406332453826,\n",
    "              'candR@3': 0.9676781002638523,\n",
    "              'candR@10': 0.9881266490765171,\n",
    "              'candR@30': 0.9953825857519789,\n",
    "              'candR@100': 0.9986807387862797,\n",
    "              'candMRR': 0.9501325818459873,\n",
    "              'hit1pred_nonm48%_P@top0.1': 0.7880794701986755,\n",
    "              'hit1pred_nonm90%_P@top0.1': 0.2781456953642384,\n",
    "              'hit3pred_nonm48%_P@top0.1': 0.8344370860927153,\n",
    "              'hit3pred_nonm90%_P@top0.1': 0.2913907284768212,\n",
    "              'hit10pred_nonm48%_P@top0.1': 0.8741721854304636,\n",
    "              'hit10pred_nonm90%_P@top0.1': 0.23841059602649006}})"
   ]
  },
  {
   "cell_type": "code",
   "execution_count": 5,
   "id": "6dc7de68",
   "metadata": {},
   "outputs": [
    {
     "name": "stdout",
     "output_type": "stream",
     "text": [
      "load model from /data/hse/model/data25_efficientnet_b4_ep10_img224/last.ckpt\n"
     ]
    },
    {
     "name": "stderr",
     "output_type": "stream",
     "text": [
      "  0%|                                                   | 0/262 [00:00<?, ?it/s]/home/kky/project/BoolArtProject/fg_identify/infer.py:86: UserWarning: To copy construct from a tensor, it is recommended to use sourceTensor.clone().detach() or sourceTensor.clone().detach().requires_grad_(True), rather than torch.tensor(sourceTensor).\n",
      "  batch = {k: torch.tensor(v).to(device) for k, v in data.items()}\n",
      "100%|█████████████████████████████████████████| 262/262 [00:26<00:00,  9.99it/s]\n"
     ]
    },
    {
     "name": "stdout",
     "output_type": "stream",
     "text": [
      "embeddings size (8379, 1792)\n",
      "load model from /data/hse/model/data25_efficientnet_b4_ep10_img224/last.ckpt\n"
     ]
    },
    {
     "name": "stderr",
     "output_type": "stream",
     "text": [
      "100%|█████████████████████████████████████████| 248/248 [00:24<00:00, 10.04it/s]\n"
     ]
    },
    {
     "name": "stdout",
     "output_type": "stream",
     "text": [
      "embeddings size (7911, 1792)\n",
      "load model from /data/hse/model/data25_efficientnet_b4_ep10_img224/last.ckpt\n"
     ]
    },
    {
     "name": "stderr",
     "output_type": "stream",
     "text": [
      "100%|█████████████████████████████████████████| 236/236 [00:23<00:00,  9.94it/s]\n"
     ]
    },
    {
     "name": "stdout",
     "output_type": "stream",
     "text": [
      "embeddings size (7546, 1792)\n",
      "load model from /data/hse/model/data25_efficientnet_b4_ep10_img224/last.ckpt\n"
     ]
    },
    {
     "name": "stderr",
     "output_type": "stream",
     "text": [
      "100%|█████████████████████████████████████████| 251/251 [00:25<00:00,  9.73it/s]\n"
     ]
    },
    {
     "name": "stdout",
     "output_type": "stream",
     "text": [
      "embeddings size (8019, 1792)\n"
     ]
    },
    {
     "name": "stderr",
     "output_type": "stream",
     "text": [
      "100%|███████████████████████████████████████████| 19/19 [00:00<00:00, 32.50it/s]\n",
      "100%|██████████████████████████████████████| 4058/4058 [00:04<00:00, 822.67it/s]\n",
      "100%|███████████████████████████████████████████| 20/20 [00:00<00:00, 20.85it/s]\n",
      "100%|██████████████████████████████████████| 4321/4321 [00:04<00:00, 869.15it/s]\n"
     ]
    },
    {
     "name": "stdout",
     "output_type": "stream",
     "text": [
      "similarity size (1505379, 4)\n"
     ]
    },
    {
     "name": "stderr",
     "output_type": "stream",
     "text": [
      "100%|███████████████████████████████████████████| 12/12 [00:00<00:00, 33.32it/s]\n",
      "100%|██████████████████████████████████████| 2512/2512 [00:02<00:00, 871.45it/s]\n",
      "100%|███████████████████████████████████████████| 24/24 [00:01<00:00, 20.83it/s]\n",
      "100%|██████████████████████████████████████| 5034/5034 [00:06<00:00, 820.28it/s]\n"
     ]
    },
    {
     "name": "stdout",
     "output_type": "stream",
     "text": [
      "similarity size (1350281, 4)\n",
      "save in /data/hse/prediction/efficientnet_b4/dev/preds.tsv\n"
     ]
    },
    {
     "data": {
      "text/plain": [
       "defaultdict(dict,\n",
       "            {'hard_lost': {'nmatchable': 2131,\n",
       "              'candR@1': 0.0004692632566870014,\n",
       "              'candR@3': 0.003754106053496011,\n",
       "              'candR@10': 0.011731581417175035,\n",
       "              'candR@30': 0.03144063819802909,\n",
       "              'candR@100': 0.1022993899577663,\n",
       "              'candMRR': 0.005310595016490846,\n",
       "              'hit1pred_nonm49%_P@top0.1': 0.0,\n",
       "              'hit1pred_nonm90%_P@top0.1': 0.0,\n",
       "              'hit3pred_nonm49%_P@top0.1': 0.004694835680751174,\n",
       "              'hit3pred_nonm90%_P@top0.1': 0.0,\n",
       "              'hit10pred_nonm49%_P@top0.1': 0.004694835680751174,\n",
       "              'hit10pred_nonm90%_P@top0.1': 0.0},\n",
       "             'hard_found': {'nmatchable': 1005,\n",
       "              'candR@1': 0.0009950248756218905,\n",
       "              'candR@3': 0.0009950248756218905,\n",
       "              'candR@10': 0.013930348258706468,\n",
       "              'candR@30': 0.03980099502487562,\n",
       "              'candR@100': 0.13930348258706468,\n",
       "              'candMRR': 0.006020258016163047,\n",
       "              'hit1pred_nonm48%_P@top0.1': 0.0,\n",
       "              'hit1pred_nonm90%_P@top0.1': 0.0,\n",
       "              'hit3pred_nonm48%_P@top0.1': 0.0,\n",
       "              'hit3pred_nonm90%_P@top0.1': 0.0,\n",
       "              'hit10pred_nonm48%_P@top0.1': 0.0,\n",
       "              'hit10pred_nonm90%_P@top0.1': 0.0},\n",
       "             'simple_lost': {'nmatchable': 779,\n",
       "              'candR@1': 0.0012836970474967907,\n",
       "              'candR@3': 0.007702182284980745,\n",
       "              'candR@10': 0.03209242618741977,\n",
       "              'candR@30': 0.11553273427471117,\n",
       "              'candR@100': 0.38254172015404364,\n",
       "              'candMRR': 0.0164443917375613,\n",
       "              'hit1pred_nonm51%_P@top0.1': 0.0,\n",
       "              'hit1pred_nonm90%_P@top0.1': 0.0,\n",
       "              'hit3pred_nonm51%_P@top0.1': 0.0,\n",
       "              'hit3pred_nonm90%_P@top0.1': 0.0,\n",
       "              'hit10pred_nonm51%_P@top0.1': 0.0,\n",
       "              'hit10pred_nonm90%_P@top0.1': 0.0},\n",
       "             'simple_found': {'nmatchable': 1516,\n",
       "              'candR@1': 0.005277044854881266,\n",
       "              'candR@3': 0.014511873350923483,\n",
       "              'candR@10': 0.04551451187335093,\n",
       "              'candR@30': 0.1345646437994723,\n",
       "              'candR@100': 0.4571240105540897,\n",
       "              'candMRR': 0.0247180648049286,\n",
       "              'hit1pred_nonm48%_P@top0.1': 0.0,\n",
       "              'hit1pred_nonm90%_P@top0.1': 0.0,\n",
       "              'hit3pred_nonm48%_P@top0.1': 0.013245033112582781,\n",
       "              'hit3pred_nonm90%_P@top0.1': 0.0,\n",
       "              'hit10pred_nonm48%_P@top0.1': 0.013245033112582781,\n",
       "              'hit10pred_nonm90%_P@top0.1': 0.0}})"
      ]
     },
     "execution_count": 5,
     "metadata": {},
     "output_type": "execute_result"
    }
   ],
   "source": [
    "model = \"/data/hse/model/data25_efficientnet_b4_ep10_img224/\"\n",
    "device = \"cuda:0\"\n",
    "name = \"efficientnet_b4\"\n",
    "gt_path = \"/data/hse/data/\"\n",
    "run_predict(name, model, device, \"dev\")\n",
    "score_preds(f\"/data/hse/prediction/{name}/dev/preds.tsv\", gt_path, [\"dev\"], None)"
   ]
  },
  {
   "cell_type": "code",
   "execution_count": 7,
   "id": "e23f6cfa",
   "metadata": {},
   "outputs": [],
   "source": [
    "effb4 = pd.DataFrame({'hard_lost': {'nmatchable': 2131,\n",
    "              'candR@1': 0.0004692632566870014,\n",
    "              'candR@3': 0.003754106053496011,\n",
    "              'candR@10': 0.011731581417175035,\n",
    "              'candR@30': 0.03144063819802909,\n",
    "              'candR@100': 0.1022993899577663,\n",
    "              'candMRR': 0.005310595016490846,\n",
    "              'hit1pred_nonm49%_P@top0.1': 0.0,\n",
    "              'hit1pred_nonm90%_P@top0.1': 0.0,\n",
    "              'hit3pred_nonm49%_P@top0.1': 0.004694835680751174,\n",
    "              'hit3pred_nonm90%_P@top0.1': 0.0,\n",
    "              'hit10pred_nonm49%_P@top0.1': 0.004694835680751174,\n",
    "              'hit10pred_nonm90%_P@top0.1': 0.0},\n",
    "             'hard_found': {'nmatchable': 1005,\n",
    "              'candR@1': 0.0009950248756218905,\n",
    "              'candR@3': 0.0009950248756218905,\n",
    "              'candR@10': 0.013930348258706468,\n",
    "              'candR@30': 0.03980099502487562,\n",
    "              'candR@100': 0.13930348258706468,\n",
    "              'candMRR': 0.006020258016163047,\n",
    "              'hit1pred_nonm48%_P@top0.1': 0.0,\n",
    "              'hit1pred_nonm90%_P@top0.1': 0.0,\n",
    "              'hit3pred_nonm48%_P@top0.1': 0.0,\n",
    "              'hit3pred_nonm90%_P@top0.1': 0.0,\n",
    "              'hit10pred_nonm48%_P@top0.1': 0.0,\n",
    "              'hit10pred_nonm90%_P@top0.1': 0.0},\n",
    "             'simple_lost': {'nmatchable': 779,\n",
    "              'candR@1': 0.0012836970474967907,\n",
    "              'candR@3': 0.007702182284980745,\n",
    "              'candR@10': 0.03209242618741977,\n",
    "              'candR@30': 0.11553273427471117,\n",
    "              'candR@100': 0.38254172015404364,\n",
    "              'candMRR': 0.0164443917375613,\n",
    "              'hit1pred_nonm51%_P@top0.1': 0.0,\n",
    "              'hit1pred_nonm90%_P@top0.1': 0.0,\n",
    "              'hit3pred_nonm51%_P@top0.1': 0.0,\n",
    "              'hit3pred_nonm90%_P@top0.1': 0.0,\n",
    "              'hit10pred_nonm51%_P@top0.1': 0.0,\n",
    "              'hit10pred_nonm90%_P@top0.1': 0.0},\n",
    "             'simple_found': {'nmatchable': 1516,\n",
    "              'candR@1': 0.005277044854881266,\n",
    "              'candR@3': 0.014511873350923483,\n",
    "              'candR@10': 0.04551451187335093,\n",
    "              'candR@30': 0.1345646437994723,\n",
    "              'candR@100': 0.4571240105540897,\n",
    "              'candMRR': 0.0247180648049286,\n",
    "              'hit1pred_nonm48%_P@top0.1': 0.0,\n",
    "              'hit1pred_nonm90%_P@top0.1': 0.0,\n",
    "              'hit3pred_nonm48%_P@top0.1': 0.013245033112582781,\n",
    "              'hit3pred_nonm90%_P@top0.1': 0.0,\n",
    "              'hit10pred_nonm48%_P@top0.1': 0.013245033112582781,\n",
    "              'hit10pred_nonm90%_P@top0.1': 0.0}})"
   ]
  },
  {
   "cell_type": "code",
   "execution_count": 4,
   "id": "551e8447",
   "metadata": {
    "scrolled": false
   },
   "outputs": [
    {
     "name": "stderr",
     "output_type": "stream",
     "text": [
      "/home/kky/miniconda3/envs/py38/lib/python3.8/site-packages/torch/functional.py:568: UserWarning: torch.meshgrid: in an upcoming release, it will be required to pass the indexing argument. (Triggered internally at  /opt/conda/conda-bld/pytorch_1646755903507/work/aten/src/ATen/native/TensorShape.cpp:2228.)\n",
      "  return _VF.meshgrid(tensors, **kwargs)  # type: ignore[attr-defined]\n"
     ]
    },
    {
     "name": "stdout",
     "output_type": "stream",
     "text": [
      "load model from /data/hse/model/data25_swin_base_patch4_window7_224_ep10_img224/last.ckpt\n"
     ]
    },
    {
     "name": "stderr",
     "output_type": "stream",
     "text": [
      "  0%|                                                   | 0/262 [00:00<?, ?it/s]/home/kky/project/BoolArtProject/fg_identify/infer.py:86: UserWarning: To copy construct from a tensor, it is recommended to use sourceTensor.clone().detach() or sourceTensor.clone().detach().requires_grad_(True), rather than torch.tensor(sourceTensor).\n",
      "  batch = {k: torch.tensor(v).to(device) for k, v in data.items()}\n",
      "100%|█████████████████████████████████████████| 262/262 [00:23<00:00, 11.09it/s]\n"
     ]
    },
    {
     "name": "stdout",
     "output_type": "stream",
     "text": [
      "embeddings size (8379, 1024)\n",
      "load model from /data/hse/model/data25_swin_base_patch4_window7_224_ep10_img224/last.ckpt\n"
     ]
    },
    {
     "name": "stderr",
     "output_type": "stream",
     "text": [
      "100%|█████████████████████████████████████████| 248/248 [00:21<00:00, 11.34it/s]\n"
     ]
    },
    {
     "name": "stdout",
     "output_type": "stream",
     "text": [
      "embeddings size (7911, 1024)\n",
      "load model from /data/hse/model/data25_swin_base_patch4_window7_224_ep10_img224/last.ckpt\n"
     ]
    },
    {
     "name": "stderr",
     "output_type": "stream",
     "text": [
      "100%|█████████████████████████████████████████| 236/236 [00:20<00:00, 11.46it/s]\n"
     ]
    },
    {
     "name": "stdout",
     "output_type": "stream",
     "text": [
      "embeddings size (7546, 1024)\n",
      "load model from /data/hse/model/data25_swin_base_patch4_window7_224_ep10_img224/last.ckpt\n"
     ]
    },
    {
     "name": "stderr",
     "output_type": "stream",
     "text": [
      "100%|█████████████████████████████████████████| 251/251 [00:21<00:00, 11.44it/s]\n"
     ]
    },
    {
     "name": "stdout",
     "output_type": "stream",
     "text": [
      "embeddings size (8019, 1024)\n"
     ]
    },
    {
     "name": "stderr",
     "output_type": "stream",
     "text": [
      "100%|███████████████████████████████████████████| 19/19 [00:00<00:00, 37.08it/s]\n",
      "100%|██████████████████████████████████████| 4058/4058 [00:04<00:00, 849.98it/s]\n",
      "100%|███████████████████████████████████████████| 20/20 [00:00<00:00, 32.89it/s]\n",
      "100%|██████████████████████████████████████| 4321/4321 [00:04<00:00, 888.32it/s]\n"
     ]
    },
    {
     "name": "stdout",
     "output_type": "stream",
     "text": [
      "similarity size (1446573, 4)\n"
     ]
    },
    {
     "name": "stderr",
     "output_type": "stream",
     "text": [
      "100%|███████████████████████████████████████████| 12/12 [00:00<00:00, 45.23it/s]\n",
      "100%|██████████████████████████████████████| 2512/2512 [00:03<00:00, 828.58it/s]\n",
      "100%|███████████████████████████████████████████| 24/24 [00:00<00:00, 33.67it/s]\n",
      "100%|██████████████████████████████████████| 5034/5034 [00:05<00:00, 889.83it/s]\n"
     ]
    },
    {
     "name": "stdout",
     "output_type": "stream",
     "text": [
      "similarity size (1292821, 4)\n",
      "save in /data/hse/prediction/swin_base_patch4_window7_224/dev/preds.tsv\n",
      "load model from /data/hse/model/data25_swin_base_patch4_window7_224_ep10_img224/last.ckpt\n"
     ]
    },
    {
     "name": "stderr",
     "output_type": "stream",
     "text": [
      "  0%|                                                   | 0/259 [00:00<?, ?it/s]/home/kky/project/BoolArtProject/fg_identify/infer.py:86: UserWarning: To copy construct from a tensor, it is recommended to use sourceTensor.clone().detach() or sourceTensor.clone().detach().requires_grad_(True), rather than torch.tensor(sourceTensor).\n",
      "  batch = {k: torch.tensor(v).to(device) for k, v in data.items()}\n",
      "100%|█████████████████████████████████████████| 259/259 [00:22<00:00, 11.40it/s]\n"
     ]
    },
    {
     "name": "stdout",
     "output_type": "stream",
     "text": [
      "embeddings size (8288, 1024)\n",
      "load model from /data/hse/model/data25_swin_base_patch4_window7_224_ep10_img224/last.ckpt\n"
     ]
    },
    {
     "name": "stderr",
     "output_type": "stream",
     "text": [
      "100%|█████████████████████████████████████████| 247/247 [00:22<00:00, 11.22it/s]\n"
     ]
    },
    {
     "name": "stdout",
     "output_type": "stream",
     "text": [
      "embeddings size (7890, 1024)\n",
      "load model from /data/hse/model/data25_swin_base_patch4_window7_224_ep10_img224/last.ckpt\n"
     ]
    },
    {
     "name": "stderr",
     "output_type": "stream",
     "text": [
      "100%|█████████████████████████████████████████| 238/238 [00:21<00:00, 11.09it/s]\n"
     ]
    },
    {
     "name": "stdout",
     "output_type": "stream",
     "text": [
      "embeddings size (7589, 1024)\n",
      "load model from /data/hse/model/data25_swin_base_patch4_window7_224_ep10_img224/last.ckpt\n"
     ]
    },
    {
     "name": "stderr",
     "output_type": "stream",
     "text": [
      "100%|█████████████████████████████████████████| 248/248 [00:23<00:00, 10.73it/s]\n"
     ]
    },
    {
     "name": "stdout",
     "output_type": "stream",
     "text": [
      "embeddings size (7927, 1024)\n"
     ]
    },
    {
     "name": "stderr",
     "output_type": "stream",
     "text": [
      "100%|███████████████████████████████████████████| 19/19 [00:00<00:00, 42.81it/s]\n",
      "100%|██████████████████████████████████████| 4038/4038 [00:04<00:00, 873.10it/s]\n",
      "100%|███████████████████████████████████████████| 20/20 [00:00<00:00, 34.43it/s]\n",
      "100%|██████████████████████████████████████| 4250/4250 [00:04<00:00, 853.88it/s]\n"
     ]
    },
    {
     "name": "stdout",
     "output_type": "stream",
     "text": [
      "similarity size (1439006, 4)\n"
     ]
    },
    {
     "name": "stderr",
     "output_type": "stream",
     "text": [
      "100%|███████████████████████████████████████████| 12/12 [00:00<00:00, 47.32it/s]\n",
      "100%|██████████████████████████████████████| 2537/2537 [00:02<00:00, 892.34it/s]\n",
      "100%|███████████████████████████████████████████| 24/24 [00:00<00:00, 34.56it/s]\n",
      "100%|██████████████████████████████████████| 5052/5052 [00:05<00:00, 887.15it/s]\n"
     ]
    },
    {
     "name": "stdout",
     "output_type": "stream",
     "text": [
      "similarity size (1311688, 4)\n",
      "save in /data/hse/prediction/swin_base_patch4_window7_224/test/preds.tsv\n"
     ]
    },
    {
     "data": {
      "text/plain": [
       "defaultdict(dict,\n",
       "            {'hard_lost': {'nmatchable': 2131,\n",
       "              'candR@1': 0.25668700140778977,\n",
       "              'candR@3': 0.3735335523228531,\n",
       "              'candR@10': 0.5274519005161896,\n",
       "              'candR@30': 0.6701079305490381,\n",
       "              'candR@100': 0.8057250117315814,\n",
       "              'candMRR': 0.34542915534370633,\n",
       "              'hit1pred_nonm49%_P@top0.1': 0.3568075117370892,\n",
       "              'hit1pred_nonm90%_P@top0.1': 0.0,\n",
       "              'hit3pred_nonm49%_P@top0.1': 0.38028169014084506,\n",
       "              'hit3pred_nonm90%_P@top0.1': 0.0,\n",
       "              'hit10pred_nonm49%_P@top0.1': 0.41784037558685444,\n",
       "              'hit10pred_nonm90%_P@top0.1': 0.009389671361502348},\n",
       "             'hard_found': {'nmatchable': 1005,\n",
       "              'candR@1': 0.40298507462686567,\n",
       "              'candR@3': 0.5104477611940299,\n",
       "              'candR@10': 0.6368159203980099,\n",
       "              'candR@30': 0.746268656716418,\n",
       "              'candR@100': 0.8388059701492537,\n",
       "              'candMRR': 0.4840351258746946,\n",
       "              'hit1pred_nonm48%_P@top0.1': 0.4,\n",
       "              'hit1pred_nonm90%_P@top0.1': 0.0,\n",
       "              'hit3pred_nonm48%_P@top0.1': 0.36,\n",
       "              'hit3pred_nonm90%_P@top0.1': 0.01,\n",
       "              'hit10pred_nonm48%_P@top0.1': 0.43,\n",
       "              'hit10pred_nonm90%_P@top0.1': 0.02},\n",
       "             'simple_lost': {'nmatchable': 779,\n",
       "              'candR@1': 0.8600770218228498,\n",
       "              'candR@3': 0.9114249037227214,\n",
       "              'candR@10': 0.9512195121951219,\n",
       "              'candR@30': 0.9833119383825417,\n",
       "              'candR@100': 0.993581514762516,\n",
       "              'candMRR': 0.8923013610922608,\n",
       "              'hit1pred_nonm51%_P@top0.1': 0.7402597402597403,\n",
       "              'hit1pred_nonm90%_P@top0.1': 0.44155844155844154,\n",
       "              'hit3pred_nonm51%_P@top0.1': 0.7142857142857143,\n",
       "              'hit3pred_nonm90%_P@top0.1': 0.05194805194805195,\n",
       "              'hit10pred_nonm51%_P@top0.1': 0.7532467532467533,\n",
       "              'hit10pred_nonm90%_P@top0.1': 0.07792207792207792},\n",
       "             'simple_found': {'nmatchable': 1516,\n",
       "              'candR@1': 0.9445910290237467,\n",
       "              'candR@3': 0.9782321899736148,\n",
       "              'candR@10': 0.9934036939313984,\n",
       "              'candR@30': 0.9947229551451188,\n",
       "              'candR@100': 0.9973614775725593,\n",
       "              'candMRR': 0.9630206017802835,\n",
       "              'hit1pred_nonm48%_P@top0.1': 0.7814569536423841,\n",
       "              'hit1pred_nonm90%_P@top0.1': 0.26490066225165565,\n",
       "              'hit3pred_nonm48%_P@top0.1': 0.8278145695364238,\n",
       "              'hit3pred_nonm90%_P@top0.1': 0.25165562913907286,\n",
       "              'hit10pred_nonm48%_P@top0.1': 0.8609271523178808,\n",
       "              'hit10pred_nonm90%_P@top0.1': 0.33774834437086093}})"
      ]
     },
     "execution_count": 4,
     "metadata": {},
     "output_type": "execute_result"
    }
   ],
   "source": [
    "model = \"/data/hse/model/data25_swin_base_patch4_window7_224_ep10_img224/\"\n",
    "device = \"cuda:0\"\n",
    "name = \"swin_base_patch4_window7_224\"\n",
    "gt_path = \"/data/hse/data/\"\n",
    "run_predict(name, model, device, \"dev\")\n",
    "run_predict(name, model, device, \"test\")\n",
    "score_preds(f\"/data/hse/prediction/{name}/dev/preds.tsv\", gt_path, [\"dev\"], None)"
   ]
  },
  {
   "cell_type": "code",
   "execution_count": 6,
   "id": "d54fd3c4",
   "metadata": {},
   "outputs": [],
   "source": [
    "swin = pd.DataFrame({'hard_lost': {'nmatchable': 2131,\n",
    "              'candR@1': 0.25668700140778977,\n",
    "              'candR@3': 0.3735335523228531,\n",
    "              'candR@10': 0.5274519005161896,\n",
    "              'candR@30': 0.6701079305490381,\n",
    "              'candR@100': 0.8057250117315814,\n",
    "              'candMRR': 0.34542915534370633,\n",
    "              'hit1pred_nonm49%_P@top0.1': 0.3568075117370892,\n",
    "              'hit1pred_nonm90%_P@top0.1': 0.0,\n",
    "              'hit3pred_nonm49%_P@top0.1': 0.38028169014084506,\n",
    "              'hit3pred_nonm90%_P@top0.1': 0.0,\n",
    "              'hit10pred_nonm49%_P@top0.1': 0.41784037558685444,\n",
    "              'hit10pred_nonm90%_P@top0.1': 0.009389671361502348},\n",
    "             'hard_found': {'nmatchable': 1005,\n",
    "              'candR@1': 0.40298507462686567,\n",
    "              'candR@3': 0.5104477611940299,\n",
    "              'candR@10': 0.6368159203980099,\n",
    "              'candR@30': 0.746268656716418,\n",
    "              'candR@100': 0.8388059701492537,\n",
    "              'candMRR': 0.4840351258746946,\n",
    "              'hit1pred_nonm48%_P@top0.1': 0.4,\n",
    "              'hit1pred_nonm90%_P@top0.1': 0.0,\n",
    "              'hit3pred_nonm48%_P@top0.1': 0.36,\n",
    "              'hit3pred_nonm90%_P@top0.1': 0.01,\n",
    "              'hit10pred_nonm48%_P@top0.1': 0.43,\n",
    "              'hit10pred_nonm90%_P@top0.1': 0.02},\n",
    "             'simple_lost': {'nmatchable': 779,\n",
    "              'candR@1': 0.8600770218228498,\n",
    "              'candR@3': 0.9114249037227214,\n",
    "              'candR@10': 0.9512195121951219,\n",
    "              'candR@30': 0.9833119383825417,\n",
    "              'candR@100': 0.993581514762516,\n",
    "              'candMRR': 0.8923013610922608,\n",
    "              'hit1pred_nonm51%_P@top0.1': 0.7402597402597403,\n",
    "              'hit1pred_nonm90%_P@top0.1': 0.44155844155844154,\n",
    "              'hit3pred_nonm51%_P@top0.1': 0.7142857142857143,\n",
    "              'hit3pred_nonm90%_P@top0.1': 0.05194805194805195,\n",
    "              'hit10pred_nonm51%_P@top0.1': 0.7532467532467533,\n",
    "              'hit10pred_nonm90%_P@top0.1': 0.07792207792207792},\n",
    "             'simple_found': {'nmatchable': 1516,\n",
    "              'candR@1': 0.9445910290237467,\n",
    "              'candR@3': 0.9782321899736148,\n",
    "              'candR@10': 0.9934036939313984,\n",
    "              'candR@30': 0.9947229551451188,\n",
    "              'candR@100': 0.9973614775725593,\n",
    "              'candMRR': 0.9630206017802835,\n",
    "              'hit1pred_nonm48%_P@top0.1': 0.7814569536423841,\n",
    "              'hit1pred_nonm90%_P@top0.1': 0.26490066225165565,\n",
    "              'hit3pred_nonm48%_P@top0.1': 0.8278145695364238,\n",
    "              'hit3pred_nonm90%_P@top0.1': 0.25165562913907286,\n",
    "              'hit10pred_nonm48%_P@top0.1': 0.8609271523178808,\n",
    "              'hit10pred_nonm90%_P@top0.1': 0.33774834437086093}})"
   ]
  },
  {
   "cell_type": "markdown",
   "id": "fbf2285c",
   "metadata": {},
   "source": [
    "# body crop"
   ]
  },
  {
   "cell_type": "code",
   "execution_count": 34,
   "id": "8984a0b7",
   "metadata": {
    "scrolled": false
   },
   "outputs": [
    {
     "name": "stdout",
     "output_type": "stream",
     "text": [
      "load model from /data/hse/model/data25_swin_base_patch4_window7_224_ep10_img224/last.ckpt\n"
     ]
    },
    {
     "name": "stderr",
     "output_type": "stream",
     "text": [
      "  0%|                                                   | 0/262 [00:00<?, ?it/s]/home/kky/project/BoolArtProject/fg_identify/infer.py:86: UserWarning: To copy construct from a tensor, it is recommended to use sourceTensor.clone().detach() or sourceTensor.clone().detach().requires_grad_(True), rather than torch.tensor(sourceTensor).\n",
      "  batch = {k: torch.tensor(v).to(device) for k, v in data.items()}\n",
      "100%|█████████████████████████████████████████| 262/262 [00:22<00:00, 11.45it/s]\n"
     ]
    },
    {
     "name": "stdout",
     "output_type": "stream",
     "text": [
      "embeddings size (8379, 1024)\n",
      "load model from /data/hse/model/data25_swin_base_patch4_window7_224_ep10_img224/last.ckpt\n"
     ]
    },
    {
     "name": "stderr",
     "output_type": "stream",
     "text": [
      "100%|█████████████████████████████████████████| 248/248 [00:21<00:00, 11.50it/s]\n"
     ]
    },
    {
     "name": "stdout",
     "output_type": "stream",
     "text": [
      "embeddings size (7911, 1024)\n",
      "load model from /data/hse/model/data25_swin_base_patch4_window7_224_ep10_img224/last.ckpt\n"
     ]
    },
    {
     "name": "stderr",
     "output_type": "stream",
     "text": [
      "100%|█████████████████████████████████████████| 236/236 [00:20<00:00, 11.36it/s]\n"
     ]
    },
    {
     "name": "stdout",
     "output_type": "stream",
     "text": [
      "embeddings size (7546, 1024)\n",
      "load model from /data/hse/model/data25_swin_base_patch4_window7_224_ep10_img224/last.ckpt\n"
     ]
    },
    {
     "name": "stderr",
     "output_type": "stream",
     "text": [
      "100%|█████████████████████████████████████████| 251/251 [00:22<00:00, 11.26it/s]\n"
     ]
    },
    {
     "name": "stdout",
     "output_type": "stream",
     "text": [
      "embeddings size (8019, 1024)\n"
     ]
    },
    {
     "name": "stderr",
     "output_type": "stream",
     "text": [
      "100%|███████████████████████████████████████████| 19/19 [00:00<00:00, 43.11it/s]\n",
      "100%|██████████████████████████████████████| 4058/4058 [00:04<00:00, 834.16it/s]\n",
      "100%|███████████████████████████████████████████| 20/20 [00:00<00:00, 27.60it/s]\n",
      "100%|██████████████████████████████████████| 4321/4321 [00:05<00:00, 853.57it/s]\n"
     ]
    },
    {
     "name": "stdout",
     "output_type": "stream",
     "text": [
      "similarity size (1464579, 4)\n"
     ]
    },
    {
     "name": "stderr",
     "output_type": "stream",
     "text": [
      "100%|███████████████████████████████████████████| 12/12 [00:00<00:00, 44.75it/s]\n",
      "100%|██████████████████████████████████████| 2512/2512 [00:02<00:00, 838.68it/s]\n",
      "100%|███████████████████████████████████████████| 24/24 [00:00<00:00, 32.64it/s]\n",
      "100%|██████████████████████████████████████| 5034/5034 [00:05<00:00, 872.84it/s]\n"
     ]
    },
    {
     "name": "stdout",
     "output_type": "stream",
     "text": [
      "similarity size (1312156, 4)\n",
      "save in /data/hse/prediction/crop_swin/dev/preds.tsv\n"
     ]
    },
    {
     "data": {
      "text/plain": [
       "defaultdict(dict,\n",
       "            {'hard_lost': {'nmatchable': 2131,\n",
       "              'candR@1': 0.22524636320976069,\n",
       "              'candR@3': 0.35100891600187706,\n",
       "              'candR@10': 0.5082121069920226,\n",
       "              'candR@30': 0.661661191928672,\n",
       "              'candR@100': 0.7817925856405443,\n",
       "              'candMRR': 0.31949982856473297,\n",
       "              'hit1pred_nonm49%_P@top0.1': 0.3051643192488263,\n",
       "              'hit1pred_nonm90%_P@top0.1': 0.0,\n",
       "              'hit3pred_nonm49%_P@top0.1': 0.3004694835680751,\n",
       "              'hit3pred_nonm90%_P@top0.1': 0.0,\n",
       "              'hit10pred_nonm49%_P@top0.1': 0.3427230046948357,\n",
       "              'hit10pred_nonm90%_P@top0.1': 0.014084507042253521},\n",
       "             'hard_found': {'nmatchable': 1005,\n",
       "              'candR@1': 0.3402985074626866,\n",
       "              'candR@3': 0.4527363184079602,\n",
       "              'candR@10': 0.5800995024875621,\n",
       "              'candR@30': 0.700497512437811,\n",
       "              'candR@100': 0.8009950248756219,\n",
       "              'candMRR': 0.42239603787572255,\n",
       "              'hit1pred_nonm48%_P@top0.1': 0.33,\n",
       "              'hit1pred_nonm90%_P@top0.1': 0.0,\n",
       "              'hit3pred_nonm48%_P@top0.1': 0.3,\n",
       "              'hit3pred_nonm90%_P@top0.1': 0.02,\n",
       "              'hit10pred_nonm48%_P@top0.1': 0.33,\n",
       "              'hit10pred_nonm90%_P@top0.1': 0.03},\n",
       "             'simple_lost': {'nmatchable': 779,\n",
       "              'candR@1': 0.8061617458279846,\n",
       "              'candR@3': 0.8870346598202824,\n",
       "              'candR@10': 0.9332477535301669,\n",
       "              'candR@30': 0.9730423620025674,\n",
       "              'candR@100': 0.9884467265725289,\n",
       "              'candMRR': 0.8534759000882646,\n",
       "              'hit1pred_nonm51%_P@top0.1': 0.6883116883116883,\n",
       "              'hit1pred_nonm90%_P@top0.1': 0.3116883116883117,\n",
       "              'hit3pred_nonm51%_P@top0.1': 0.7012987012987013,\n",
       "              'hit3pred_nonm90%_P@top0.1': 0.05194805194805195,\n",
       "              'hit10pred_nonm51%_P@top0.1': 0.7532467532467533,\n",
       "              'hit10pred_nonm90%_P@top0.1': 0.07792207792207792},\n",
       "             'simple_found': {'nmatchable': 1516,\n",
       "              'candR@1': 0.9010554089709762,\n",
       "              'candR@3': 0.9518469656992085,\n",
       "              'candR@10': 0.9782321899736148,\n",
       "              'candR@30': 0.987467018469657,\n",
       "              'candR@100': 0.9953825857519789,\n",
       "              'candMRR': 0.928884775346336,\n",
       "              'hit1pred_nonm48%_P@top0.1': 0.7615894039735099,\n",
       "              'hit1pred_nonm90%_P@top0.1': 0.2781456953642384,\n",
       "              'hit3pred_nonm48%_P@top0.1': 0.8145695364238411,\n",
       "              'hit3pred_nonm90%_P@top0.1': 0.2119205298013245,\n",
       "              'hit10pred_nonm48%_P@top0.1': 0.8543046357615894,\n",
       "              'hit10pred_nonm90%_P@top0.1': 0.2119205298013245}})"
      ]
     },
     "execution_count": 34,
     "metadata": {},
     "output_type": "execute_result"
    }
   ],
   "source": [
    "model = \"/data/hse/model/data25_swin_base_patch4_window7_224_ep10_img224/\"\n",
    "device = \"cuda:1\"\n",
    "name = \"crop_swin\"\n",
    "gt_path = \"/data/hse/data_crop_body/\"\n",
    "run_predict(name, model, device, \"dev\", 'body')\n",
    "# run_predict(name, model, device, \"test\", 'body')\n",
    "score_preds(f\"/data/hse/prediction/{name}/dev/preds.tsv\", gt_path, [\"dev\"], None)"
   ]
  },
  {
   "cell_type": "code",
   "execution_count": 35,
   "id": "0c160810",
   "metadata": {},
   "outputs": [],
   "source": [
    "swin_body = pd.DataFrame({'hard_lost': {'nmatchable': 2131,\n",
    "              'candR@1': 0.22524636320976069,\n",
    "              'candR@3': 0.35100891600187706,\n",
    "              'candR@10': 0.5082121069920226,\n",
    "              'candR@30': 0.661661191928672,\n",
    "              'candR@100': 0.7817925856405443,\n",
    "              'candMRR': 0.31949982856473297,\n",
    "              'hit1pred_nonm49%_P@top0.1': 0.3051643192488263,\n",
    "              'hit1pred_nonm90%_P@top0.1': 0.0,\n",
    "              'hit3pred_nonm49%_P@top0.1': 0.3004694835680751,\n",
    "              'hit3pred_nonm90%_P@top0.1': 0.0,\n",
    "              'hit10pred_nonm49%_P@top0.1': 0.3427230046948357,\n",
    "              'hit10pred_nonm90%_P@top0.1': 0.014084507042253521},\n",
    "             'hard_found': {'nmatchable': 1005,\n",
    "              'candR@1': 0.3402985074626866,\n",
    "              'candR@3': 0.4527363184079602,\n",
    "              'candR@10': 0.5800995024875621,\n",
    "              'candR@30': 0.700497512437811,\n",
    "              'candR@100': 0.8009950248756219,\n",
    "              'candMRR': 0.42239603787572255,\n",
    "              'hit1pred_nonm48%_P@top0.1': 0.33,\n",
    "              'hit1pred_nonm90%_P@top0.1': 0.0,\n",
    "              'hit3pred_nonm48%_P@top0.1': 0.3,\n",
    "              'hit3pred_nonm90%_P@top0.1': 0.02,\n",
    "              'hit10pred_nonm48%_P@top0.1': 0.33,\n",
    "              'hit10pred_nonm90%_P@top0.1': 0.03},\n",
    "             'simple_lost': {'nmatchable': 779,\n",
    "              'candR@1': 0.8061617458279846,\n",
    "              'candR@3': 0.8870346598202824,\n",
    "              'candR@10': 0.9332477535301669,\n",
    "              'candR@30': 0.9730423620025674,\n",
    "              'candR@100': 0.9884467265725289,\n",
    "              'candMRR': 0.8534759000882646,\n",
    "              'hit1pred_nonm51%_P@top0.1': 0.6883116883116883,\n",
    "              'hit1pred_nonm90%_P@top0.1': 0.3116883116883117,\n",
    "              'hit3pred_nonm51%_P@top0.1': 0.7012987012987013,\n",
    "              'hit3pred_nonm90%_P@top0.1': 0.05194805194805195,\n",
    "              'hit10pred_nonm51%_P@top0.1': 0.7532467532467533,\n",
    "              'hit10pred_nonm90%_P@top0.1': 0.07792207792207792},\n",
    "             'simple_found': {'nmatchable': 1516,\n",
    "              'candR@1': 0.9010554089709762,\n",
    "              'candR@3': 0.9518469656992085,\n",
    "              'candR@10': 0.9782321899736148,\n",
    "              'candR@30': 0.987467018469657,\n",
    "              'candR@100': 0.9953825857519789,\n",
    "              'candMRR': 0.928884775346336,\n",
    "              'hit1pred_nonm48%_P@top0.1': 0.7615894039735099,\n",
    "              'hit1pred_nonm90%_P@top0.1': 0.2781456953642384,\n",
    "              'hit3pred_nonm48%_P@top0.1': 0.8145695364238411,\n",
    "              'hit3pred_nonm90%_P@top0.1': 0.2119205298013245,\n",
    "              'hit10pred_nonm48%_P@top0.1': 0.8543046357615894,\n",
    "              'hit10pred_nonm90%_P@top0.1': 0.2119205298013245}})"
   ]
  },
  {
   "cell_type": "markdown",
   "id": "026a0825",
   "metadata": {},
   "source": [
    "# BNNeck"
   ]
  },
  {
   "cell_type": "code",
   "execution_count": 19,
   "id": "53ae63ac",
   "metadata": {
    "scrolled": false
   },
   "outputs": [
    {
     "name": "stderr",
     "output_type": "stream",
     "text": [
      "/home/kky/miniconda3/envs/py38/lib/python3.8/site-packages/torch/functional.py:568: UserWarning: torch.meshgrid: in an upcoming release, it will be required to pass the indexing argument. (Triggered internally at  /opt/conda/conda-bld/pytorch_1646755903507/work/aten/src/ATen/native/TensorShape.cpp:2228.)\n",
      "  return _VF.meshgrid(tensors, **kwargs)  # type: ignore[attr-defined]\n"
     ]
    },
    {
     "name": "stdout",
     "output_type": "stream",
     "text": [
      "load model from /data/hse/model/data25_swin_base_patch4_window7_224_ep10_img224_bnneck/last.ckpt\n"
     ]
    },
    {
     "name": "stderr",
     "output_type": "stream",
     "text": [
      "  0%|                                                   | 0/262 [00:00<?, ?it/s]/home/kky/project/BoolArtProject/fg_identify/infer.py:86: UserWarning: To copy construct from a tensor, it is recommended to use sourceTensor.clone().detach() or sourceTensor.clone().detach().requires_grad_(True), rather than torch.tensor(sourceTensor).\n",
      "  batch = {k: torch.tensor(v).to(device) for k, v in data.items()}\n",
      "100%|█████████████████████████████████████████| 262/262 [00:26<00:00,  9.76it/s]\n"
     ]
    },
    {
     "name": "stdout",
     "output_type": "stream",
     "text": [
      "embeddings size (8379, 1024)\n",
      "load model from /data/hse/model/data25_swin_base_patch4_window7_224_ep10_img224_bnneck/last.ckpt\n"
     ]
    },
    {
     "name": "stderr",
     "output_type": "stream",
     "text": [
      "100%|█████████████████████████████████████████| 248/248 [00:25<00:00,  9.87it/s]\n"
     ]
    },
    {
     "name": "stdout",
     "output_type": "stream",
     "text": [
      "embeddings size (7911, 1024)\n",
      "load model from /data/hse/model/data25_swin_base_patch4_window7_224_ep10_img224_bnneck/last.ckpt\n"
     ]
    },
    {
     "name": "stderr",
     "output_type": "stream",
     "text": [
      "100%|█████████████████████████████████████████| 236/236 [00:24<00:00,  9.71it/s]\n"
     ]
    },
    {
     "name": "stdout",
     "output_type": "stream",
     "text": [
      "embeddings size (7546, 1024)\n",
      "load model from /data/hse/model/data25_swin_base_patch4_window7_224_ep10_img224_bnneck/last.ckpt\n"
     ]
    },
    {
     "name": "stderr",
     "output_type": "stream",
     "text": [
      "100%|█████████████████████████████████████████| 251/251 [00:26<00:00,  9.41it/s]\n"
     ]
    },
    {
     "name": "stdout",
     "output_type": "stream",
     "text": [
      "embeddings size (8019, 1024)\n"
     ]
    },
    {
     "name": "stderr",
     "output_type": "stream",
     "text": [
      "100%|███████████████████████████████████████████| 19/19 [00:00<00:00, 32.69it/s]\n",
      "100%|██████████████████████████████████████| 4058/4058 [00:05<00:00, 801.43it/s]\n",
      "100%|███████████████████████████████████████████| 20/20 [00:00<00:00, 26.82it/s]\n",
      "100%|██████████████████████████████████████| 4321/4321 [00:05<00:00, 840.84it/s]\n"
     ]
    },
    {
     "name": "stdout",
     "output_type": "stream",
     "text": [
      "similarity size (1441941, 4)\n"
     ]
    },
    {
     "name": "stderr",
     "output_type": "stream",
     "text": [
      "100%|███████████████████████████████████████████| 12/12 [00:00<00:00, 41.64it/s]\n",
      "100%|██████████████████████████████████████| 2512/2512 [00:03<00:00, 796.53it/s]\n",
      "100%|███████████████████████████████████████████| 24/24 [00:00<00:00, 32.78it/s]\n",
      "100%|██████████████████████████████████████| 5034/5034 [00:06<00:00, 814.82it/s]\n"
     ]
    },
    {
     "name": "stdout",
     "output_type": "stream",
     "text": [
      "similarity size (1290616, 4)\n",
      "save in /data/hse/prediction/convnext_small_neck/dev/preds.tsv\n",
      "load model from /data/hse/model/data25_swin_base_patch4_window7_224_ep10_img224_bnneck/last.ckpt\n"
     ]
    },
    {
     "name": "stderr",
     "output_type": "stream",
     "text": [
      "  0%|                                                   | 0/259 [00:00<?, ?it/s]/home/kky/project/BoolArtProject/fg_identify/infer.py:86: UserWarning: To copy construct from a tensor, it is recommended to use sourceTensor.clone().detach() or sourceTensor.clone().detach().requires_grad_(True), rather than torch.tensor(sourceTensor).\n",
      "  batch = {k: torch.tensor(v).to(device) for k, v in data.items()}\n",
      "100%|█████████████████████████████████████████| 259/259 [00:27<00:00,  9.45it/s]\n"
     ]
    },
    {
     "name": "stdout",
     "output_type": "stream",
     "text": [
      "embeddings size (8288, 1024)\n",
      "load model from /data/hse/model/data25_swin_base_patch4_window7_224_ep10_img224_bnneck/last.ckpt\n"
     ]
    },
    {
     "name": "stderr",
     "output_type": "stream",
     "text": [
      "100%|█████████████████████████████████████████| 247/247 [00:26<00:00,  9.26it/s]\n"
     ]
    },
    {
     "name": "stdout",
     "output_type": "stream",
     "text": [
      "embeddings size (7890, 1024)\n",
      "load model from /data/hse/model/data25_swin_base_patch4_window7_224_ep10_img224_bnneck/last.ckpt\n"
     ]
    },
    {
     "name": "stderr",
     "output_type": "stream",
     "text": [
      "100%|█████████████████████████████████████████| 238/238 [00:25<00:00,  9.45it/s]\n"
     ]
    },
    {
     "name": "stdout",
     "output_type": "stream",
     "text": [
      "embeddings size (7589, 1024)\n",
      "load model from /data/hse/model/data25_swin_base_patch4_window7_224_ep10_img224_bnneck/last.ckpt\n"
     ]
    },
    {
     "name": "stderr",
     "output_type": "stream",
     "text": [
      "100%|█████████████████████████████████████████| 248/248 [00:26<00:00,  9.29it/s]\n"
     ]
    },
    {
     "name": "stdout",
     "output_type": "stream",
     "text": [
      "embeddings size (7927, 1024)\n"
     ]
    },
    {
     "name": "stderr",
     "output_type": "stream",
     "text": [
      "100%|███████████████████████████████████████████| 19/19 [00:00<00:00, 40.79it/s]\n",
      "100%|██████████████████████████████████████| 4038/4038 [00:04<00:00, 809.73it/s]\n",
      "100%|███████████████████████████████████████████| 20/20 [00:00<00:00, 31.71it/s]\n",
      "100%|██████████████████████████████████████| 4250/4250 [00:05<00:00, 804.43it/s]\n"
     ]
    },
    {
     "name": "stdout",
     "output_type": "stream",
     "text": [
      "similarity size (1437551, 4)\n"
     ]
    },
    {
     "name": "stderr",
     "output_type": "stream",
     "text": [
      "100%|███████████████████████████████████████████| 12/12 [00:00<00:00, 40.15it/s]\n",
      "100%|██████████████████████████████████████| 2537/2537 [00:03<00:00, 837.80it/s]\n",
      "100%|███████████████████████████████████████████| 24/24 [00:00<00:00, 29.83it/s]\n",
      "100%|██████████████████████████████████████| 5052/5052 [00:06<00:00, 794.89it/s]\n"
     ]
    },
    {
     "name": "stdout",
     "output_type": "stream",
     "text": [
      "similarity size (1309855, 4)\n",
      "save in /data/hse/prediction/convnext_small_neck/test/preds.tsv\n"
     ]
    },
    {
     "data": {
      "text/plain": [
       "defaultdict(dict,\n",
       "            {'hard_lost': {'nmatchable': 2131,\n",
       "              'candR@1': 0.2656030032848428,\n",
       "              'candR@3': 0.38526513374002813,\n",
       "              'candR@10': 0.5443453777569216,\n",
       "              'candR@30': 0.687939934303144,\n",
       "              'candR@100': 0.8155795401220084,\n",
       "              'candMRR': 0.35599820000580373,\n",
       "              'hit1pred_nonm49%_P@top0.1': 0.352112676056338,\n",
       "              'hit1pred_nonm90%_P@top0.1': 0.0,\n",
       "              'hit3pred_nonm49%_P@top0.1': 0.3380281690140845,\n",
       "              'hit3pred_nonm90%_P@top0.1': 0.0,\n",
       "              'hit10pred_nonm49%_P@top0.1': 0.3615023474178404,\n",
       "              'hit10pred_nonm90%_P@top0.1': 0.018779342723004695},\n",
       "             'hard_found': {'nmatchable': 1005,\n",
       "              'candR@1': 0.4099502487562189,\n",
       "              'candR@3': 0.5383084577114428,\n",
       "              'candR@10': 0.6487562189054726,\n",
       "              'candR@30': 0.7651741293532338,\n",
       "              'candR@100': 0.8388059701492537,\n",
       "              'candMRR': 0.49399896100475693,\n",
       "              'hit1pred_nonm48%_P@top0.1': 0.37,\n",
       "              'hit1pred_nonm90%_P@top0.1': 0.0,\n",
       "              'hit3pred_nonm48%_P@top0.1': 0.37,\n",
       "              'hit3pred_nonm90%_P@top0.1': 0.01,\n",
       "              'hit10pred_nonm48%_P@top0.1': 0.39,\n",
       "              'hit10pred_nonm90%_P@top0.1': 0.03},\n",
       "             'simple_lost': {'nmatchable': 779,\n",
       "              'candR@1': 0.8729139922978177,\n",
       "              'candR@3': 0.9281129653401797,\n",
       "              'candR@10': 0.962772785622593,\n",
       "              'candR@30': 0.9833119383825417,\n",
       "              'candR@100': 0.9961489088575096,\n",
       "              'candMRR': 0.9052608414087774,\n",
       "              'hit1pred_nonm51%_P@top0.1': 0.7662337662337663,\n",
       "              'hit1pred_nonm90%_P@top0.1': 0.2857142857142857,\n",
       "              'hit3pred_nonm51%_P@top0.1': 0.7272727272727273,\n",
       "              'hit3pred_nonm90%_P@top0.1': 0.05194805194805195,\n",
       "              'hit10pred_nonm51%_P@top0.1': 0.7532467532467533,\n",
       "              'hit10pred_nonm90%_P@top0.1': 0.07792207792207792},\n",
       "             'simple_found': {'nmatchable': 1516,\n",
       "              'candR@1': 0.9498680738786279,\n",
       "              'candR@3': 0.9828496042216359,\n",
       "              'candR@10': 0.991424802110818,\n",
       "              'candR@30': 0.9973614775725593,\n",
       "              'candR@100': 0.9993403693931399,\n",
       "              'candMRR': 0.9676411710175248,\n",
       "              'hit1pred_nonm48%_P@top0.1': 0.7615894039735099,\n",
       "              'hit1pred_nonm90%_P@top0.1': 0.26490066225165565,\n",
       "              'hit3pred_nonm48%_P@top0.1': 0.8410596026490066,\n",
       "              'hit3pred_nonm90%_P@top0.1': 0.25165562913907286,\n",
       "              'hit10pred_nonm48%_P@top0.1': 0.8609271523178808,\n",
       "              'hit10pred_nonm90%_P@top0.1': 0.271523178807947}})"
      ]
     },
     "execution_count": 19,
     "metadata": {},
     "output_type": "execute_result"
    }
   ],
   "source": [
    "model = \"/data/hse/model/data25_swin_base_patch4_window7_224_ep10_img224_bnneck/\"\n",
    "device = \"cuda:1\"\n",
    "name = \"swin_base_patch4_window7_224\"\n",
    "gt_path = \"/data/hse/data/\"\n",
    "run_predict(name, model, device, \"dev\", 'data')\n",
    "run_predict(name, model, device, \"test\", 'data')\n",
    "score_preds(f\"/data/hse/prediction/{name}/dev/preds.tsv\", gt_path, [\"dev\"], None)"
   ]
  },
  {
   "cell_type": "code",
   "execution_count": 20,
   "id": "dd746ff7",
   "metadata": {},
   "outputs": [],
   "source": [
    "swin_bnneck = pd.DataFrame({'hard_lost': {'nmatchable': 2131,\n",
    "              'candR@1': 0.2656030032848428,\n",
    "              'candR@3': 0.38526513374002813,\n",
    "              'candR@10': 0.5443453777569216,\n",
    "              'candR@30': 0.687939934303144,\n",
    "              'candR@100': 0.8155795401220084,\n",
    "              'candMRR': 0.35599820000580373,\n",
    "              'hit1pred_nonm49%_P@top0.1': 0.352112676056338,\n",
    "              'hit1pred_nonm90%_P@top0.1': 0.0,\n",
    "              'hit3pred_nonm49%_P@top0.1': 0.3380281690140845,\n",
    "              'hit3pred_nonm90%_P@top0.1': 0.0,\n",
    "              'hit10pred_nonm49%_P@top0.1': 0.3615023474178404,\n",
    "              'hit10pred_nonm90%_P@top0.1': 0.018779342723004695},\n",
    "             'hard_found': {'nmatchable': 1005,\n",
    "              'candR@1': 0.4099502487562189,\n",
    "              'candR@3': 0.5383084577114428,\n",
    "              'candR@10': 0.6487562189054726,\n",
    "              'candR@30': 0.7651741293532338,\n",
    "              'candR@100': 0.8388059701492537,\n",
    "              'candMRR': 0.49399896100475693,\n",
    "              'hit1pred_nonm48%_P@top0.1': 0.37,\n",
    "              'hit1pred_nonm90%_P@top0.1': 0.0,\n",
    "              'hit3pred_nonm48%_P@top0.1': 0.37,\n",
    "              'hit3pred_nonm90%_P@top0.1': 0.01,\n",
    "              'hit10pred_nonm48%_P@top0.1': 0.39,\n",
    "              'hit10pred_nonm90%_P@top0.1': 0.03},\n",
    "             'simple_lost': {'nmatchable': 779,\n",
    "              'candR@1': 0.8729139922978177,\n",
    "              'candR@3': 0.9281129653401797,\n",
    "              'candR@10': 0.962772785622593,\n",
    "              'candR@30': 0.9833119383825417,\n",
    "              'candR@100': 0.9961489088575096,\n",
    "              'candMRR': 0.9052608414087774,\n",
    "              'hit1pred_nonm51%_P@top0.1': 0.7662337662337663,\n",
    "              'hit1pred_nonm90%_P@top0.1': 0.2857142857142857,\n",
    "              'hit3pred_nonm51%_P@top0.1': 0.7272727272727273,\n",
    "              'hit3pred_nonm90%_P@top0.1': 0.05194805194805195,\n",
    "              'hit10pred_nonm51%_P@top0.1': 0.7532467532467533,\n",
    "              'hit10pred_nonm90%_P@top0.1': 0.07792207792207792},\n",
    "             'simple_found': {'nmatchable': 1516,\n",
    "              'candR@1': 0.9498680738786279,\n",
    "              'candR@3': 0.9828496042216359,\n",
    "              'candR@10': 0.991424802110818,\n",
    "              'candR@30': 0.9973614775725593,\n",
    "              'candR@100': 0.9993403693931399,\n",
    "              'candMRR': 0.9676411710175248,\n",
    "              'hit1pred_nonm48%_P@top0.1': 0.7615894039735099,\n",
    "              'hit1pred_nonm90%_P@top0.1': 0.26490066225165565,\n",
    "              'hit3pred_nonm48%_P@top0.1': 0.8410596026490066,\n",
    "              'hit3pred_nonm90%_P@top0.1': 0.25165562913907286,\n",
    "              'hit10pred_nonm48%_P@top0.1': 0.8609271523178808,\n",
    "              'hit10pred_nonm90%_P@top0.1': 0.271523178807947}})"
   ]
  },
  {
   "cell_type": "markdown",
   "id": "6eee9100",
   "metadata": {},
   "source": [
    "# body + bnneck"
   ]
  },
  {
   "cell_type": "code",
   "execution_count": 30,
   "id": "318dd175",
   "metadata": {
    "scrolled": false
   },
   "outputs": [
    {
     "name": "stdout",
     "output_type": "stream",
     "text": [
      "load model from /data/hse/model/data25_crop_body_swin_base_patch4_window7_224_ep10_img224_bnneck/last.ckpt\n"
     ]
    },
    {
     "name": "stderr",
     "output_type": "stream",
     "text": [
      "  0%|                                                   | 0/262 [00:00<?, ?it/s]/home/kky/project/BoolArtProject/fg_identify/infer.py:86: UserWarning: To copy construct from a tensor, it is recommended to use sourceTensor.clone().detach() or sourceTensor.clone().detach().requires_grad_(True), rather than torch.tensor(sourceTensor).\n",
      "  batch = {k: torch.tensor(v).to(device) for k, v in data.items()}\n",
      "100%|█████████████████████████████████████████| 262/262 [00:22<00:00, 11.40it/s]\n"
     ]
    },
    {
     "name": "stdout",
     "output_type": "stream",
     "text": [
      "embeddings size (8379, 1024)\n",
      "load model from /data/hse/model/data25_crop_body_swin_base_patch4_window7_224_ep10_img224_bnneck/last.ckpt\n"
     ]
    },
    {
     "name": "stderr",
     "output_type": "stream",
     "text": [
      "100%|█████████████████████████████████████████| 248/248 [00:21<00:00, 11.32it/s]\n"
     ]
    },
    {
     "name": "stdout",
     "output_type": "stream",
     "text": [
      "embeddings size (7911, 1024)\n",
      "load model from /data/hse/model/data25_crop_body_swin_base_patch4_window7_224_ep10_img224_bnneck/last.ckpt\n"
     ]
    },
    {
     "name": "stderr",
     "output_type": "stream",
     "text": [
      "100%|█████████████████████████████████████████| 236/236 [00:21<00:00, 11.20it/s]\n"
     ]
    },
    {
     "name": "stdout",
     "output_type": "stream",
     "text": [
      "embeddings size (7546, 1024)\n",
      "load model from /data/hse/model/data25_crop_body_swin_base_patch4_window7_224_ep10_img224_bnneck/last.ckpt\n"
     ]
    },
    {
     "name": "stderr",
     "output_type": "stream",
     "text": [
      "100%|█████████████████████████████████████████| 251/251 [00:22<00:00, 11.21it/s]\n"
     ]
    },
    {
     "name": "stdout",
     "output_type": "stream",
     "text": [
      "embeddings size (8019, 1024)\n"
     ]
    },
    {
     "name": "stderr",
     "output_type": "stream",
     "text": [
      "100%|███████████████████████████████████████████| 19/19 [00:00<00:00, 38.25it/s]\n",
      "100%|██████████████████████████████████████| 4058/4058 [00:04<00:00, 841.59it/s]\n",
      "100%|███████████████████████████████████████████| 20/20 [00:00<00:00, 28.00it/s]\n",
      "100%|██████████████████████████████████████| 4321/4321 [00:05<00:00, 857.50it/s]\n"
     ]
    },
    {
     "name": "stdout",
     "output_type": "stream",
     "text": [
      "similarity size (1459364, 4)\n"
     ]
    },
    {
     "name": "stderr",
     "output_type": "stream",
     "text": [
      "100%|███████████████████████████████████████████| 12/12 [00:00<00:00, 44.46it/s]\n",
      "100%|██████████████████████████████████████| 2512/2512 [00:02<00:00, 864.93it/s]\n",
      "100%|███████████████████████████████████████████| 24/24 [00:00<00:00, 30.80it/s]\n",
      "100%|██████████████████████████████████████| 5034/5034 [00:05<00:00, 842.74it/s]\n"
     ]
    },
    {
     "name": "stdout",
     "output_type": "stream",
     "text": [
      "similarity size (1301289, 4)\n",
      "save in /data/hse/prediction/data25_crop_body_swin_base_patch4_window7_224_ep10_img224_bnneck/dev/preds.tsv\n",
      "load model from /data/hse/model/data25_crop_body_swin_base_patch4_window7_224_ep10_img224_bnneck/last.ckpt\n"
     ]
    },
    {
     "name": "stderr",
     "output_type": "stream",
     "text": [
      "  0%|                                                   | 0/259 [00:00<?, ?it/s]/home/kky/project/BoolArtProject/fg_identify/infer.py:86: UserWarning: To copy construct from a tensor, it is recommended to use sourceTensor.clone().detach() or sourceTensor.clone().detach().requires_grad_(True), rather than torch.tensor(sourceTensor).\n",
      "  batch = {k: torch.tensor(v).to(device) for k, v in data.items()}\n",
      "100%|█████████████████████████████████████████| 259/259 [00:22<00:00, 11.33it/s]\n"
     ]
    },
    {
     "name": "stdout",
     "output_type": "stream",
     "text": [
      "embeddings size (8288, 1024)\n",
      "load model from /data/hse/model/data25_crop_body_swin_base_patch4_window7_224_ep10_img224_bnneck/last.ckpt\n"
     ]
    },
    {
     "name": "stderr",
     "output_type": "stream",
     "text": [
      "100%|█████████████████████████████████████████| 247/247 [00:21<00:00, 11.26it/s]\n"
     ]
    },
    {
     "name": "stdout",
     "output_type": "stream",
     "text": [
      "embeddings size (7890, 1024)\n",
      "load model from /data/hse/model/data25_crop_body_swin_base_patch4_window7_224_ep10_img224_bnneck/last.ckpt\n"
     ]
    },
    {
     "name": "stderr",
     "output_type": "stream",
     "text": [
      "100%|█████████████████████████████████████████| 238/238 [00:21<00:00, 11.23it/s]\n"
     ]
    },
    {
     "name": "stdout",
     "output_type": "stream",
     "text": [
      "embeddings size (7589, 1024)\n",
      "load model from /data/hse/model/data25_crop_body_swin_base_patch4_window7_224_ep10_img224_bnneck/last.ckpt\n"
     ]
    },
    {
     "name": "stderr",
     "output_type": "stream",
     "text": [
      "100%|█████████████████████████████████████████| 248/248 [00:22<00:00, 11.23it/s]\n"
     ]
    },
    {
     "name": "stdout",
     "output_type": "stream",
     "text": [
      "embeddings size (7927, 1024)\n"
     ]
    },
    {
     "name": "stderr",
     "output_type": "stream",
     "text": [
      "100%|███████████████████████████████████████████| 19/19 [00:00<00:00, 40.92it/s]\n",
      "100%|██████████████████████████████████████| 4038/4038 [00:04<00:00, 809.55it/s]\n",
      "100%|███████████████████████████████████████████| 20/20 [00:00<00:00, 25.51it/s]\n",
      "100%|██████████████████████████████████████| 4250/4250 [00:05<00:00, 800.49it/s]\n"
     ]
    },
    {
     "name": "stdout",
     "output_type": "stream",
     "text": [
      "similarity size (1447616, 4)\n"
     ]
    },
    {
     "name": "stderr",
     "output_type": "stream",
     "text": [
      "100%|███████████████████████████████████████████| 12/12 [00:00<00:00, 33.56it/s]\n",
      "100%|██████████████████████████████████████| 2537/2537 [00:03<00:00, 833.19it/s]\n",
      "100%|███████████████████████████████████████████| 24/24 [00:00<00:00, 28.59it/s]\n",
      "100%|██████████████████████████████████████| 5052/5052 [00:06<00:00, 811.66it/s]\n"
     ]
    },
    {
     "name": "stdout",
     "output_type": "stream",
     "text": [
      "similarity size (1319580, 4)\n",
      "save in /data/hse/prediction/data25_crop_body_swin_base_patch4_window7_224_ep10_img224_bnneck/test/preds.tsv\n"
     ]
    },
    {
     "data": {
      "text/plain": [
       "defaultdict(dict,\n",
       "            {'hard_lost': {'nmatchable': 2131,\n",
       "              'candR@1': 0.2857813233223839,\n",
       "              'candR@3': 0.4293758798686063,\n",
       "              'candR@10': 0.5692163303613327,\n",
       "              'candR@30': 0.7109338338808071,\n",
       "              'candR@100': 0.8268418582824965,\n",
       "              'candMRR': 0.3842173877753883,\n",
       "              'hit1pred_nonm49%_P@top0.1': 0.3568075117370892,\n",
       "              'hit1pred_nonm90%_P@top0.1': 0.0,\n",
       "              'hit3pred_nonm49%_P@top0.1': 0.3755868544600939,\n",
       "              'hit3pred_nonm90%_P@top0.1': 0.0,\n",
       "              'hit10pred_nonm49%_P@top0.1': 0.39906103286384975,\n",
       "              'hit10pred_nonm90%_P@top0.1': 0.009389671361502348},\n",
       "             'hard_found': {'nmatchable': 1005,\n",
       "              'candR@1': 0.3990049751243781,\n",
       "              'candR@3': 0.5203980099502488,\n",
       "              'candR@10': 0.6497512437810945,\n",
       "              'candR@30': 0.7522388059701492,\n",
       "              'candR@100': 0.8348258706467662,\n",
       "              'candMRR': 0.4835887679968464,\n",
       "              'hit1pred_nonm48%_P@top0.1': 0.38,\n",
       "              'hit1pred_nonm90%_P@top0.1': 0.0,\n",
       "              'hit3pred_nonm48%_P@top0.1': 0.35,\n",
       "              'hit3pred_nonm90%_P@top0.1': 0.01,\n",
       "              'hit10pred_nonm48%_P@top0.1': 0.42,\n",
       "              'hit10pred_nonm90%_P@top0.1': 0.05},\n",
       "             'simple_lost': {'nmatchable': 779,\n",
       "              'candR@1': 0.8523748395378691,\n",
       "              'candR@3': 0.8960205391527599,\n",
       "              'candR@10': 0.9486521181001284,\n",
       "              'candR@30': 0.9768934531450578,\n",
       "              'candR@100': 0.9948652118100129,\n",
       "              'candMRR': 0.8823846943769481,\n",
       "              'hit1pred_nonm51%_P@top0.1': 0.7142857142857143,\n",
       "              'hit1pred_nonm90%_P@top0.1': 0.2727272727272727,\n",
       "              'hit3pred_nonm51%_P@top0.1': 0.7142857142857143,\n",
       "              'hit3pred_nonm90%_P@top0.1': 0.05194805194805195,\n",
       "              'hit10pred_nonm51%_P@top0.1': 0.7532467532467533,\n",
       "              'hit10pred_nonm90%_P@top0.1': 0.07792207792207792},\n",
       "             'simple_found': {'nmatchable': 1516,\n",
       "              'candR@1': 0.9300791556728232,\n",
       "              'candR@3': 0.9643799472295514,\n",
       "              'candR@10': 0.9848284960422163,\n",
       "              'candR@30': 0.9920844327176781,\n",
       "              'candR@100': 0.9993403693931399,\n",
       "              'candMRR': 0.9498883006191889,\n",
       "              'hit1pred_nonm48%_P@top0.1': 0.7417218543046358,\n",
       "              'hit1pred_nonm90%_P@top0.1': 0.271523178807947,\n",
       "              'hit3pred_nonm48%_P@top0.1': 0.7814569536423841,\n",
       "              'hit3pred_nonm90%_P@top0.1': 0.2119205298013245,\n",
       "              'hit10pred_nonm48%_P@top0.1': 0.8211920529801324,\n",
       "              'hit10pred_nonm90%_P@top0.1': 0.2119205298013245}})"
      ]
     },
     "execution_count": 30,
     "metadata": {},
     "output_type": "execute_result"
    }
   ],
   "source": [
    "model = \"/data/hse/model/data25_crop_body_swin_base_patch4_window7_224_ep10_img224_bnneck/\"\n",
    "device = \"cuda:1\"\n",
    "name = \"data25_crop_body_swin_base_patch4_window7_224_ep10_img224_bnneck\"\n",
    "gt_path = \"/data/hse/data_crop_body/\"\n",
    "run_predict(name, model, device, \"dev\", 'body')\n",
    "run_predict(name, model, device, \"test\", 'body')\n",
    "score_preds(f\"/data/hse/prediction/{name}/dev/preds.tsv\", gt_path, [\"dev\"], None)"
   ]
  },
  {
   "cell_type": "code",
   "execution_count": 31,
   "id": "f1ec279b",
   "metadata": {},
   "outputs": [],
   "source": [
    "swin_bnneck_body = pd.DataFrame({'hard_lost': {'nmatchable': 2131,\n",
    "              'candR@1': 0.2857813233223839,\n",
    "              'candR@3': 0.4293758798686063,\n",
    "              'candR@10': 0.5692163303613327,\n",
    "              'candR@30': 0.7109338338808071,\n",
    "              'candR@100': 0.8268418582824965,\n",
    "              'candMRR': 0.3842173877753883,\n",
    "              'hit1pred_nonm49%_P@top0.1': 0.3568075117370892,\n",
    "              'hit1pred_nonm90%_P@top0.1': 0.0,\n",
    "              'hit3pred_nonm49%_P@top0.1': 0.3755868544600939,\n",
    "              'hit3pred_nonm90%_P@top0.1': 0.0,\n",
    "              'hit10pred_nonm49%_P@top0.1': 0.39906103286384975,\n",
    "              'hit10pred_nonm90%_P@top0.1': 0.009389671361502348},\n",
    "             'hard_found': {'nmatchable': 1005,\n",
    "              'candR@1': 0.3990049751243781,\n",
    "              'candR@3': 0.5203980099502488,\n",
    "              'candR@10': 0.6497512437810945,\n",
    "              'candR@30': 0.7522388059701492,\n",
    "              'candR@100': 0.8348258706467662,\n",
    "              'candMRR': 0.4835887679968464,\n",
    "              'hit1pred_nonm48%_P@top0.1': 0.38,\n",
    "              'hit1pred_nonm90%_P@top0.1': 0.0,\n",
    "              'hit3pred_nonm48%_P@top0.1': 0.35,\n",
    "              'hit3pred_nonm90%_P@top0.1': 0.01,\n",
    "              'hit10pred_nonm48%_P@top0.1': 0.42,\n",
    "              'hit10pred_nonm90%_P@top0.1': 0.05},\n",
    "             'simple_lost': {'nmatchable': 779,\n",
    "              'candR@1': 0.8523748395378691,\n",
    "              'candR@3': 0.8960205391527599,\n",
    "              'candR@10': 0.9486521181001284,\n",
    "              'candR@30': 0.9768934531450578,\n",
    "              'candR@100': 0.9948652118100129,\n",
    "              'candMRR': 0.8823846943769481,\n",
    "              'hit1pred_nonm51%_P@top0.1': 0.7142857142857143,\n",
    "              'hit1pred_nonm90%_P@top0.1': 0.2727272727272727,\n",
    "              'hit3pred_nonm51%_P@top0.1': 0.7142857142857143,\n",
    "              'hit3pred_nonm90%_P@top0.1': 0.05194805194805195,\n",
    "              'hit10pred_nonm51%_P@top0.1': 0.7532467532467533,\n",
    "              'hit10pred_nonm90%_P@top0.1': 0.07792207792207792},\n",
    "             'simple_found': {'nmatchable': 1516,\n",
    "              'candR@1': 0.9300791556728232,\n",
    "              'candR@3': 0.9643799472295514,\n",
    "              'candR@10': 0.9848284960422163,\n",
    "              'candR@30': 0.9920844327176781,\n",
    "              'candR@100': 0.9993403693931399,\n",
    "              'candMRR': 0.9498883006191889,\n",
    "              'hit1pred_nonm48%_P@top0.1': 0.7417218543046358,\n",
    "              'hit1pred_nonm90%_P@top0.1': 0.271523178807947,\n",
    "              'hit3pred_nonm48%_P@top0.1': 0.7814569536423841,\n",
    "              'hit3pred_nonm90%_P@top0.1': 0.2119205298013245,\n",
    "              'hit10pred_nonm48%_P@top0.1': 0.8211920529801324,\n",
    "              'hit10pred_nonm90%_P@top0.1': 0.2119205298013245}})"
   ]
  },
  {
   "cell_type": "markdown",
   "id": "48523472",
   "metadata": {},
   "source": [
    "# Analysis"
   ]
  },
  {
   "cell_type": "code",
   "execution_count": 36,
   "id": "33348c69",
   "metadata": {},
   "outputs": [],
   "source": [
    "convnext.to_csv(\"./result/convnext.csv\")\n",
    "convnext_body.to_csv(\"./result/convnext_body.csv\")\n",
    "effb4.to_csv(\"./result/effb4.csv\")\n",
    "swin.to_csv(\"./result/swin.csv\")\n",
    "swin_bnneck.to_csv(\"./result/swin_bnneck.csv\")\n",
    "swin_body.to_csv(\"./result/swin_body.csv\")\n",
    "swin_bnneck_body.to_csv(\"./result/swin_bnneck_body.csv\")"
   ]
  },
  {
   "cell_type": "code",
   "execution_count": 39,
   "id": "e5cfe947",
   "metadata": {},
   "outputs": [
    {
     "data": {
      "text/html": [
       "<div>\n",
       "<style scoped>\n",
       "    .dataframe tbody tr th:only-of-type {\n",
       "        vertical-align: middle;\n",
       "    }\n",
       "\n",
       "    .dataframe tbody tr th {\n",
       "        vertical-align: top;\n",
       "    }\n",
       "\n",
       "    .dataframe thead th {\n",
       "        text-align: right;\n",
       "    }\n",
       "</style>\n",
       "<table border=\"1\" class=\"dataframe\">\n",
       "  <thead>\n",
       "    <tr style=\"text-align: right;\">\n",
       "      <th></th>\n",
       "      <th>hard_lost</th>\n",
       "      <th>hard_found</th>\n",
       "      <th>simple_lost</th>\n",
       "      <th>simple_found</th>\n",
       "    </tr>\n",
       "  </thead>\n",
       "  <tbody>\n",
       "    <tr>\n",
       "      <th>nmatchable</th>\n",
       "      <td>0.000000</td>\n",
       "      <td>0.000000</td>\n",
       "      <td>0.000000</td>\n",
       "      <td>0.000000</td>\n",
       "    </tr>\n",
       "    <tr>\n",
       "      <th>candR@1</th>\n",
       "      <td>-0.031441</td>\n",
       "      <td>-0.062687</td>\n",
       "      <td>-0.053915</td>\n",
       "      <td>-0.043536</td>\n",
       "    </tr>\n",
       "    <tr>\n",
       "      <th>candR@3</th>\n",
       "      <td>-0.022525</td>\n",
       "      <td>-0.057711</td>\n",
       "      <td>-0.024390</td>\n",
       "      <td>-0.026385</td>\n",
       "    </tr>\n",
       "    <tr>\n",
       "      <th>candR@10</th>\n",
       "      <td>-0.019240</td>\n",
       "      <td>-0.056716</td>\n",
       "      <td>-0.017972</td>\n",
       "      <td>-0.015172</td>\n",
       "    </tr>\n",
       "    <tr>\n",
       "      <th>candR@30</th>\n",
       "      <td>-0.008447</td>\n",
       "      <td>-0.045771</td>\n",
       "      <td>-0.010270</td>\n",
       "      <td>-0.007256</td>\n",
       "    </tr>\n",
       "    <tr>\n",
       "      <th>candR@100</th>\n",
       "      <td>-0.023932</td>\n",
       "      <td>-0.037811</td>\n",
       "      <td>-0.005135</td>\n",
       "      <td>-0.001979</td>\n",
       "    </tr>\n",
       "    <tr>\n",
       "      <th>candMRR</th>\n",
       "      <td>-0.025929</td>\n",
       "      <td>-0.061639</td>\n",
       "      <td>-0.038825</td>\n",
       "      <td>-0.034136</td>\n",
       "    </tr>\n",
       "    <tr>\n",
       "      <th>hit1pred_nonm49%_P@top0.1</th>\n",
       "      <td>-0.051643</td>\n",
       "      <td>NaN</td>\n",
       "      <td>NaN</td>\n",
       "      <td>NaN</td>\n",
       "    </tr>\n",
       "    <tr>\n",
       "      <th>hit1pred_nonm90%_P@top0.1</th>\n",
       "      <td>0.000000</td>\n",
       "      <td>0.000000</td>\n",
       "      <td>-0.129870</td>\n",
       "      <td>0.013245</td>\n",
       "    </tr>\n",
       "    <tr>\n",
       "      <th>hit3pred_nonm49%_P@top0.1</th>\n",
       "      <td>-0.079812</td>\n",
       "      <td>NaN</td>\n",
       "      <td>NaN</td>\n",
       "      <td>NaN</td>\n",
       "    </tr>\n",
       "    <tr>\n",
       "      <th>hit3pred_nonm90%_P@top0.1</th>\n",
       "      <td>0.000000</td>\n",
       "      <td>0.010000</td>\n",
       "      <td>0.000000</td>\n",
       "      <td>-0.039735</td>\n",
       "    </tr>\n",
       "    <tr>\n",
       "      <th>hit10pred_nonm49%_P@top0.1</th>\n",
       "      <td>-0.075117</td>\n",
       "      <td>NaN</td>\n",
       "      <td>NaN</td>\n",
       "      <td>NaN</td>\n",
       "    </tr>\n",
       "    <tr>\n",
       "      <th>hit10pred_nonm90%_P@top0.1</th>\n",
       "      <td>0.004695</td>\n",
       "      <td>0.010000</td>\n",
       "      <td>0.000000</td>\n",
       "      <td>-0.125828</td>\n",
       "    </tr>\n",
       "    <tr>\n",
       "      <th>hit1pred_nonm48%_P@top0.1</th>\n",
       "      <td>NaN</td>\n",
       "      <td>-0.070000</td>\n",
       "      <td>NaN</td>\n",
       "      <td>-0.019868</td>\n",
       "    </tr>\n",
       "    <tr>\n",
       "      <th>hit3pred_nonm48%_P@top0.1</th>\n",
       "      <td>NaN</td>\n",
       "      <td>-0.060000</td>\n",
       "      <td>NaN</td>\n",
       "      <td>-0.013245</td>\n",
       "    </tr>\n",
       "    <tr>\n",
       "      <th>hit10pred_nonm48%_P@top0.1</th>\n",
       "      <td>NaN</td>\n",
       "      <td>-0.100000</td>\n",
       "      <td>NaN</td>\n",
       "      <td>-0.006623</td>\n",
       "    </tr>\n",
       "    <tr>\n",
       "      <th>hit1pred_nonm51%_P@top0.1</th>\n",
       "      <td>NaN</td>\n",
       "      <td>NaN</td>\n",
       "      <td>-0.051948</td>\n",
       "      <td>NaN</td>\n",
       "    </tr>\n",
       "    <tr>\n",
       "      <th>hit3pred_nonm51%_P@top0.1</th>\n",
       "      <td>NaN</td>\n",
       "      <td>NaN</td>\n",
       "      <td>-0.012987</td>\n",
       "      <td>NaN</td>\n",
       "    </tr>\n",
       "    <tr>\n",
       "      <th>hit10pred_nonm51%_P@top0.1</th>\n",
       "      <td>NaN</td>\n",
       "      <td>NaN</td>\n",
       "      <td>0.000000</td>\n",
       "      <td>NaN</td>\n",
       "    </tr>\n",
       "  </tbody>\n",
       "</table>\n",
       "</div>"
      ],
      "text/plain": [
       "                            hard_lost  hard_found  simple_lost  simple_found\n",
       "nmatchable                   0.000000    0.000000     0.000000      0.000000\n",
       "candR@1                     -0.031441   -0.062687    -0.053915     -0.043536\n",
       "candR@3                     -0.022525   -0.057711    -0.024390     -0.026385\n",
       "candR@10                    -0.019240   -0.056716    -0.017972     -0.015172\n",
       "candR@30                    -0.008447   -0.045771    -0.010270     -0.007256\n",
       "candR@100                   -0.023932   -0.037811    -0.005135     -0.001979\n",
       "candMRR                     -0.025929   -0.061639    -0.038825     -0.034136\n",
       "hit1pred_nonm49%_P@top0.1   -0.051643         NaN          NaN           NaN\n",
       "hit1pred_nonm90%_P@top0.1    0.000000    0.000000    -0.129870      0.013245\n",
       "hit3pred_nonm49%_P@top0.1   -0.079812         NaN          NaN           NaN\n",
       "hit3pred_nonm90%_P@top0.1    0.000000    0.010000     0.000000     -0.039735\n",
       "hit10pred_nonm49%_P@top0.1  -0.075117         NaN          NaN           NaN\n",
       "hit10pred_nonm90%_P@top0.1   0.004695    0.010000     0.000000     -0.125828\n",
       "hit1pred_nonm48%_P@top0.1         NaN   -0.070000          NaN     -0.019868\n",
       "hit3pred_nonm48%_P@top0.1         NaN   -0.060000          NaN     -0.013245\n",
       "hit10pred_nonm48%_P@top0.1        NaN   -0.100000          NaN     -0.006623\n",
       "hit1pred_nonm51%_P@top0.1         NaN         NaN    -0.051948           NaN\n",
       "hit3pred_nonm51%_P@top0.1         NaN         NaN    -0.012987           NaN\n",
       "hit10pred_nonm51%_P@top0.1        NaN         NaN     0.000000           NaN"
      ]
     },
     "execution_count": 39,
     "metadata": {},
     "output_type": "execute_result"
    }
   ],
   "source": [
    "swin_body - swin"
   ]
  },
  {
   "cell_type": "code",
   "execution_count": null,
   "id": "067e8cc2",
   "metadata": {},
   "outputs": [],
   "source": []
  }
 ],
 "metadata": {
  "kernelspec": {
   "display_name": "Python 3 (ipykernel)",
   "language": "python",
   "name": "python3"
  },
  "language_info": {
   "codemirror_mode": {
    "name": "ipython",
    "version": 3
   },
   "file_extension": ".py",
   "mimetype": "text/x-python",
   "name": "python",
   "nbconvert_exporter": "python",
   "pygments_lexer": "ipython3",
   "version": "3.8.0"
  }
 },
 "nbformat": 4,
 "nbformat_minor": 5
}
